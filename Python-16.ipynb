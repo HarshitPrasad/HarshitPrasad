{
 "cells": [
  {
   "cell_type": "code",
   "execution_count": 6,
   "id": "28d5ba68",
   "metadata": {},
   "outputs": [
    {
     "name": "stdout",
     "output_type": "stream",
     "text": [
      "nohtyp\n"
     ]
    }
   ],
   "source": [
    "a='python'\n",
    "b=''\n",
    "for i in a:\n",
    "    b=i+b\n",
    "print(b)"
   ]
  },
  {
   "cell_type": "code",
   "execution_count": 9,
   "id": "4c74c5a2",
   "metadata": {},
   "outputs": [
    {
     "name": "stdout",
     "output_type": "stream",
     "text": [
      "nohtyp\n",
      "Reversed\n"
     ]
    }
   ],
   "source": [
    "a='python'\n",
    "b=''\n",
    "for i in a:\n",
    "    b=i+b\n",
    "print(b)\n",
    "if a!=b:\n",
    "    print(\"Reversed\")\n",
    "else:\n",
    "    print(\"Not Reversed\")"
   ]
  },
  {
   "cell_type": "code",
   "execution_count": null,
   "id": "c739cae0",
   "metadata": {},
   "outputs": [],
   "source": []
  }
 ],
 "metadata": {
  "kernelspec": {
   "display_name": "Python 3 (ipykernel)",
   "language": "python",
   "name": "python3"
  },
  "language_info": {
   "codemirror_mode": {
    "name": "ipython",
    "version": 3
   },
   "file_extension": ".py",
   "mimetype": "text/x-python",
   "name": "python",
   "nbconvert_exporter": "python",
   "pygments_lexer": "ipython3",
   "version": "3.9.12"
  }
 },
 "nbformat": 4,
 "nbformat_minor": 5
}
