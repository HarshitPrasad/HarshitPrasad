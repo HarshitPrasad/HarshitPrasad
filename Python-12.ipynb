{
 "cells": [
  {
   "cell_type": "code",
   "execution_count": 3,
   "id": "f63708eb",
   "metadata": {},
   "outputs": [],
   "source": [
    "x=[34,89,-90,45.7,23.8,'Python','SQL',True]"
   ]
  },
  {
   "cell_type": "code",
   "execution_count": 4,
   "id": "3833275c",
   "metadata": {},
   "outputs": [
    {
     "data": {
      "text/plain": [
       "[34, 89, -90, 45.7, 23.8, 'Python', 'SQL', True]"
      ]
     },
     "execution_count": 4,
     "metadata": {},
     "output_type": "execute_result"
    }
   ],
   "source": [
    "x"
   ]
  },
  {
   "cell_type": "code",
   "execution_count": 5,
   "id": "e651f4fc",
   "metadata": {},
   "outputs": [
    {
     "data": {
      "text/plain": [
       "list"
      ]
     },
     "execution_count": 5,
     "metadata": {},
     "output_type": "execute_result"
    }
   ],
   "source": [
    "type(x)"
   ]
  },
  {
   "cell_type": "code",
   "execution_count": 6,
   "id": "ed85042f",
   "metadata": {},
   "outputs": [
    {
     "data": {
      "text/plain": [
       "-90"
      ]
     },
     "execution_count": 6,
     "metadata": {},
     "output_type": "execute_result"
    }
   ],
   "source": [
    "x[2]"
   ]
  },
  {
   "cell_type": "code",
   "execution_count": 7,
   "id": "6ce86fb2",
   "metadata": {},
   "outputs": [
    {
     "data": {
      "text/plain": [
       "True"
      ]
     },
     "execution_count": 7,
     "metadata": {},
     "output_type": "execute_result"
    }
   ],
   "source": [
    "x[7]"
   ]
  },
  {
   "cell_type": "code",
   "execution_count": 9,
   "id": "d3e97af9",
   "metadata": {},
   "outputs": [
    {
     "data": {
      "text/plain": [
       "[-90, 45.7, 23.8, 'Python']"
      ]
     },
     "execution_count": 9,
     "metadata": {},
     "output_type": "execute_result"
    }
   ],
   "source": [
    "x[2:6]"
   ]
  },
  {
   "cell_type": "code",
   "execution_count": 11,
   "id": "c535d4a5",
   "metadata": {},
   "outputs": [
    {
     "data": {
      "text/plain": [
       "'Python'"
      ]
     },
     "execution_count": 11,
     "metadata": {},
     "output_type": "execute_result"
    }
   ],
   "source": [
    "x[-3]"
   ]
  },
  {
   "cell_type": "code",
   "execution_count": 12,
   "id": "26574d0b",
   "metadata": {},
   "outputs": [
    {
     "data": {
      "text/plain": [
       "True"
      ]
     },
     "execution_count": 12,
     "metadata": {},
     "output_type": "execute_result"
    }
   ],
   "source": [
    "x[-1]"
   ]
  },
  {
   "cell_type": "code",
   "execution_count": 14,
   "id": "a4ef11ff",
   "metadata": {},
   "outputs": [
    {
     "data": {
      "text/plain": [
       "[]"
      ]
     },
     "execution_count": 14,
     "metadata": {},
     "output_type": "execute_result"
    }
   ],
   "source": [
    "x[-1:-3]"
   ]
  },
  {
   "cell_type": "code",
   "execution_count": 17,
   "id": "8f7af2e4",
   "metadata": {},
   "outputs": [
    {
     "data": {
      "text/plain": [
       "[True, 'SQL', 'Python']"
      ]
     },
     "execution_count": 17,
     "metadata": {},
     "output_type": "execute_result"
    }
   ],
   "source": [
    "x[7:4:-1]"
   ]
  },
  {
   "cell_type": "code",
   "execution_count": 19,
   "id": "e5c6c6b7",
   "metadata": {},
   "outputs": [
    {
     "data": {
      "text/plain": [
       "[True, 'SQL', 'Python', 23.8, 45.7, -90, 89, 34]"
      ]
     },
     "execution_count": 19,
     "metadata": {},
     "output_type": "execute_result"
    }
   ],
   "source": [
    "x[::-1]"
   ]
  },
  {
   "cell_type": "code",
   "execution_count": 20,
   "id": "08f52164",
   "metadata": {},
   "outputs": [
    {
     "data": {
      "text/plain": [
       "34"
      ]
     },
     "execution_count": 20,
     "metadata": {},
     "output_type": "execute_result"
    }
   ],
   "source": [
    "x[0]"
   ]
  },
  {
   "cell_type": "code",
   "execution_count": 21,
   "id": "627fa651",
   "metadata": {},
   "outputs": [],
   "source": [
    "x[0]='Harshit'"
   ]
  },
  {
   "cell_type": "code",
   "execution_count": 22,
   "id": "7830714d",
   "metadata": {},
   "outputs": [
    {
     "data": {
      "text/plain": [
       "['Harshit', 89, -90, 45.7, 23.8, 'Python', 'SQL', True]"
      ]
     },
     "execution_count": 22,
     "metadata": {},
     "output_type": "execute_result"
    }
   ],
   "source": [
    "x"
   ]
  },
  {
   "cell_type": "code",
   "execution_count": 23,
   "id": "aa4d7f43",
   "metadata": {},
   "outputs": [
    {
     "name": "stdout",
     "output_type": "stream",
     "text": [
      "[]\n"
     ]
    }
   ],
   "source": [
    "x=[]\n",
    "print(x)"
   ]
  },
  {
   "cell_type": "code",
   "execution_count": 24,
   "id": "c3eea0f1",
   "metadata": {},
   "outputs": [
    {
     "name": "stdout",
     "output_type": "stream",
     "text": [
      "[1]\n"
     ]
    }
   ],
   "source": [
    "x=[1]\n",
    "print(x)"
   ]
  },
  {
   "cell_type": "code",
   "execution_count": 31,
   "id": "573a164b",
   "metadata": {},
   "outputs": [
    {
     "name": "stdout",
     "output_type": "stream",
     "text": [
      "[0, 1, 2, 3]\n"
     ]
    }
   ],
   "source": [
    "x=[1,2,3,4]\n",
    "print([0]+[1]+[2]+[3])"
   ]
  },
  {
   "cell_type": "code",
   "execution_count": 32,
   "id": "72ad093c",
   "metadata": {},
   "outputs": [
    {
     "data": {
      "text/plain": [
       "[1, 2, 3, 4]"
      ]
     },
     "execution_count": 32,
     "metadata": {},
     "output_type": "execute_result"
    }
   ],
   "source": [
    "x"
   ]
  },
  {
   "cell_type": "code",
   "execution_count": 34,
   "id": "86a278fe",
   "metadata": {},
   "outputs": [
    {
     "name": "stdout",
     "output_type": "stream",
     "text": [
      "1\n",
      "3\n",
      "6\n",
      "10\n"
     ]
    }
   ],
   "source": [
    "x=[1,2,3,4]\n",
    "add=0\n",
    "for i in x:\n",
    "    add=add+i\n",
    "    print(add)"
   ]
  },
  {
   "cell_type": "code",
   "execution_count": 43,
   "id": "cb16c943",
   "metadata": {},
   "outputs": [
    {
     "name": "stdout",
     "output_type": "stream",
     "text": [
      "89 odd\n",
      "67 odd\n",
      "45 odd\n",
      "22 even\n",
      "90 even\n",
      "76 even\n"
     ]
    }
   ],
   "source": [
    "x=[89,67,45,22,90,76]\n",
    "for i in x:\n",
    "    if i%2==0:\n",
    "        print(i,\"even\")\n",
    "    else:\n",
    "        print(i,\"odd\")"
   ]
  },
  {
   "cell_type": "code",
   "execution_count": 51,
   "id": "244197c3",
   "metadata": {},
   "outputs": [
    {
     "name": "stdout",
     "output_type": "stream",
     "text": [
      "common 45\n"
     ]
    }
   ],
   "source": [
    "x=[34,45,67,89]\n",
    "y=[78,90,45,23]\n",
    "for i in x:\n",
    "    for j in y:\n",
    "        if i==j:\n",
    "            print(\"common\",i)\n",
    " #       else:\n",
    "  #          print(\"No Common\")"
   ]
  },
  {
   "cell_type": "code",
   "execution_count": 49,
   "id": "679f298f",
   "metadata": {},
   "outputs": [
    {
     "name": "stdout",
     "output_type": "stream",
     "text": [
      "89 Odd number\n",
      "67 Odd number\n",
      "45 Odd number\n",
      "21 Odd number\n",
      "77 Odd number\n",
      "43 Odd number\n",
      "22 even number\n",
      "90 even number\n",
      "76 even number\n",
      "odd number count= 6\n",
      "even number count= 3\n"
     ]
    }
   ],
   "source": [
    "x=[89,67,45,21,77,43,22,90,76]\n",
    "count_even=0\n",
    "count_odd=0\n",
    "for i in x:\n",
    "    if i%2==0:\n",
    "        print(i,\"even number\")\n",
    "        count_even+=1\n",
    "    else:\n",
    "        print(i,\"Odd number\")\n",
    "        count_odd+=1\n",
    "print(\"odd number count=\",count_odd)\n",
    "print(\"even number count=\",count_even)"
   ]
  },
  {
   "cell_type": "code",
   "execution_count": null,
   "id": "88fbe2ff",
   "metadata": {},
   "outputs": [],
   "source": []
  }
 ],
 "metadata": {
  "kernelspec": {
   "display_name": "Python 3 (ipykernel)",
   "language": "python",
   "name": "python3"
  },
  "language_info": {
   "codemirror_mode": {
    "name": "ipython",
    "version": 3
   },
   "file_extension": ".py",
   "mimetype": "text/x-python",
   "name": "python",
   "nbconvert_exporter": "python",
   "pygments_lexer": "ipython3",
   "version": "3.9.12"
  }
 },
 "nbformat": 4,
 "nbformat_minor": 5
}
