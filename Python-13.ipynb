{
 "cells": [
  {
   "cell_type": "code",
   "execution_count": 1,
   "id": "b7425da8",
   "metadata": {},
   "outputs": [],
   "source": [
    "x=()"
   ]
  },
  {
   "cell_type": "code",
   "execution_count": 3,
   "id": "b5da1285",
   "metadata": {},
   "outputs": [
    {
     "data": {
      "text/plain": [
       "tuple"
      ]
     },
     "execution_count": 3,
     "metadata": {},
     "output_type": "execute_result"
    }
   ],
   "source": [
    "type(x)"
   ]
  },
  {
   "cell_type": "code",
   "execution_count": 4,
   "id": "0a709d2c",
   "metadata": {},
   "outputs": [],
   "source": [
    "x=(22)"
   ]
  },
  {
   "cell_type": "code",
   "execution_count": 5,
   "id": "0faf225b",
   "metadata": {},
   "outputs": [
    {
     "name": "stdout",
     "output_type": "stream",
     "text": [
      "22\n"
     ]
    }
   ],
   "source": [
    "print(x)"
   ]
  },
  {
   "cell_type": "code",
   "execution_count": 6,
   "id": "57671259",
   "metadata": {},
   "outputs": [],
   "source": [
    "x=[123]\n",
    "y=tuple(x)"
   ]
  },
  {
   "cell_type": "code",
   "execution_count": 18,
   "id": "e97fb16b",
   "metadata": {},
   "outputs": [
    {
     "name": "stdout",
     "output_type": "stream",
     "text": [
      "[1, 2, 3, 5, 6, 7]\n"
     ]
    }
   ],
   "source": [
    "print(y)"
   ]
  },
  {
   "cell_type": "code",
   "execution_count": 11,
   "id": "56d77d30",
   "metadata": {},
   "outputs": [],
   "source": [
    "x=(1,2,3,4,5,6,7)"
   ]
  },
  {
   "cell_type": "code",
   "execution_count": 12,
   "id": "f78a2155",
   "metadata": {},
   "outputs": [],
   "source": [
    "y=list(x)"
   ]
  },
  {
   "cell_type": "code",
   "execution_count": 13,
   "id": "77a16658",
   "metadata": {},
   "outputs": [
    {
     "data": {
      "text/plain": [
       "[1, 2, 3, 4, 5, 6, 7]"
      ]
     },
     "execution_count": 13,
     "metadata": {},
     "output_type": "execute_result"
    }
   ],
   "source": [
    "y"
   ]
  },
  {
   "cell_type": "code",
   "execution_count": 14,
   "id": "40eaed66",
   "metadata": {},
   "outputs": [],
   "source": [
    "y.remove(4)"
   ]
  },
  {
   "cell_type": "code",
   "execution_count": 15,
   "id": "91f50bb0",
   "metadata": {},
   "outputs": [],
   "source": [
    "z=tuple(y)"
   ]
  },
  {
   "cell_type": "code",
   "execution_count": 16,
   "id": "b26ede8b",
   "metadata": {},
   "outputs": [
    {
     "data": {
      "text/plain": [
       "(1, 2, 3, 5, 6, 7)"
      ]
     },
     "execution_count": 16,
     "metadata": {},
     "output_type": "execute_result"
    }
   ],
   "source": [
    "z"
   ]
  },
  {
   "cell_type": "markdown",
   "id": "f892f5e5",
   "metadata": {},
   "source": [
    "# DICTIONARY"
   ]
  },
  {
   "cell_type": "code",
   "execution_count": 4,
   "id": "84872fb6",
   "metadata": {},
   "outputs": [],
   "source": [
    "x={\n",
    "    'Name': 'Harshit',\n",
    "    'Marks': 777,\n",
    "    'age': 24\n",
    "}"
   ]
  },
  {
   "cell_type": "code",
   "execution_count": 5,
   "id": "87568afd",
   "metadata": {},
   "outputs": [
    {
     "data": {
      "text/plain": [
       "'Harshit'"
      ]
     },
     "execution_count": 5,
     "metadata": {},
     "output_type": "execute_result"
    }
   ],
   "source": [
    "x['Name']"
   ]
  },
  {
   "cell_type": "code",
   "execution_count": 6,
   "id": "771575f0",
   "metadata": {},
   "outputs": [
    {
     "data": {
      "text/plain": [
       "24"
      ]
     },
     "execution_count": 6,
     "metadata": {},
     "output_type": "execute_result"
    }
   ],
   "source": [
    "x['age']"
   ]
  },
  {
   "cell_type": "code",
   "execution_count": 7,
   "id": "78a868d7",
   "metadata": {},
   "outputs": [],
   "source": [
    "x={\n",
    "    'name': ['A','B','C'],\n",
    "    'marks': (45,67,89),\n",
    "    'age': (23,44,67)\n",
    "}"
   ]
  },
  {
   "cell_type": "code",
   "execution_count": 8,
   "id": "e2101e93",
   "metadata": {},
   "outputs": [
    {
     "name": "stdout",
     "output_type": "stream",
     "text": [
      "{'name': ['A', 'B', 'C'], 'marks': (45, 67, 89), 'age': (23, 44, 67)}\n"
     ]
    }
   ],
   "source": [
    "print(x)"
   ]
  },
  {
   "cell_type": "code",
   "execution_count": 10,
   "id": "e711ef06",
   "metadata": {},
   "outputs": [
    {
     "data": {
      "text/plain": [
       "67"
      ]
     },
     "execution_count": 10,
     "metadata": {},
     "output_type": "execute_result"
    }
   ],
   "source": [
    "x['marks'] [1]"
   ]
  },
  {
   "cell_type": "code",
   "execution_count": 11,
   "id": "7519f818",
   "metadata": {},
   "outputs": [],
   "source": [
    "x={\n",
    "    'value':22\n",
    "}"
   ]
  },
  {
   "cell_type": "code",
   "execution_count": 12,
   "id": "2a9eccae",
   "metadata": {},
   "outputs": [
    {
     "data": {
      "text/plain": [
       "{'value': 22}"
      ]
     },
     "execution_count": 12,
     "metadata": {},
     "output_type": "execute_result"
    }
   ],
   "source": [
    "x"
   ]
  },
  {
   "cell_type": "code",
   "execution_count": 15,
   "id": "b0fdf2ea",
   "metadata": {},
   "outputs": [],
   "source": [
    "x={\n",
    "    'value':'__'\n",
    "}"
   ]
  },
  {
   "cell_type": "code",
   "execution_count": 16,
   "id": "27f58894",
   "metadata": {},
   "outputs": [
    {
     "data": {
      "text/plain": [
       "{'value': '__'}"
      ]
     },
     "execution_count": 16,
     "metadata": {},
     "output_type": "execute_result"
    }
   ],
   "source": [
    "x"
   ]
  },
  {
   "cell_type": "markdown",
   "id": "c47bc092",
   "metadata": {},
   "source": [
    "# METHODS\n"
   ]
  },
  {
   "cell_type": "code",
   "execution_count": 20,
   "id": "a2b34cfd",
   "metadata": {},
   "outputs": [],
   "source": [
    "#items\n",
    "#keys\n",
    "#values\n",
    "#update\n",
    "#pop\n",
    "\n",
    "x={\n",
    "    'name': ['A','B','C'],\n",
    "    'marks': (45,67,89),\n",
    "    'age': (23,44,67)\n",
    "}"
   ]
  },
  {
   "cell_type": "code",
   "execution_count": 21,
   "id": "1a8159e6",
   "metadata": {},
   "outputs": [
    {
     "data": {
      "text/plain": [
       "{'name': ['A', 'B', 'C'], 'marks': (45, 67, 89), 'age': (23, 44, 67)}"
      ]
     },
     "execution_count": 21,
     "metadata": {},
     "output_type": "execute_result"
    }
   ],
   "source": [
    "x"
   ]
  },
  {
   "cell_type": "code",
   "execution_count": 22,
   "id": "4b59ad22",
   "metadata": {},
   "outputs": [
    {
     "data": {
      "text/plain": [
       "dict_items([('name', ['A', 'B', 'C']), ('marks', (45, 67, 89)), ('age', (23, 44, 67))])"
      ]
     },
     "execution_count": 22,
     "metadata": {},
     "output_type": "execute_result"
    }
   ],
   "source": [
    "x.items()"
   ]
  },
  {
   "cell_type": "code",
   "execution_count": 23,
   "id": "278827a1",
   "metadata": {},
   "outputs": [
    {
     "data": {
      "text/plain": [
       "dict_keys(['name', 'marks', 'age'])"
      ]
     },
     "execution_count": 23,
     "metadata": {},
     "output_type": "execute_result"
    }
   ],
   "source": [
    "x.keys()"
   ]
  },
  {
   "cell_type": "code",
   "execution_count": 24,
   "id": "b9558338",
   "metadata": {},
   "outputs": [
    {
     "data": {
      "text/plain": [
       "dict_values([['A', 'B', 'C'], (45, 67, 89), (23, 44, 67)])"
      ]
     },
     "execution_count": 24,
     "metadata": {},
     "output_type": "execute_result"
    }
   ],
   "source": [
    "x.values()"
   ]
  },
  {
   "cell_type": "code",
   "execution_count": 25,
   "id": "838081b7",
   "metadata": {},
   "outputs": [
    {
     "data": {
      "text/plain": [
       "(23, 44, 67)"
      ]
     },
     "execution_count": 25,
     "metadata": {},
     "output_type": "execute_result"
    }
   ],
   "source": [
    "x.pop('age')"
   ]
  },
  {
   "cell_type": "code",
   "execution_count": 26,
   "id": "0fc1d5d8",
   "metadata": {},
   "outputs": [
    {
     "data": {
      "text/plain": [
       "{'name': ['A', 'B', 'C'], 'marks': (45, 67, 89)}"
      ]
     },
     "execution_count": 26,
     "metadata": {},
     "output_type": "execute_result"
    }
   ],
   "source": [
    "x"
   ]
  },
  {
   "cell_type": "code",
   "execution_count": 30,
   "id": "3b0928df",
   "metadata": {},
   "outputs": [],
   "source": [
    "x.update({'age':(23,24,25)})"
   ]
  },
  {
   "cell_type": "code",
   "execution_count": 31,
   "id": "9741db83",
   "metadata": {},
   "outputs": [
    {
     "data": {
      "text/plain": [
       "{'name': ['A', 'B', 'C'], 'marks': (45, 67, 89), 'age': (23, 24, 25)}"
      ]
     },
     "execution_count": 31,
     "metadata": {},
     "output_type": "execute_result"
    }
   ],
   "source": [
    "x"
   ]
  },
  {
   "cell_type": "code",
   "execution_count": null,
   "id": "3ee4ab85",
   "metadata": {},
   "outputs": [],
   "source": []
  }
 ],
 "metadata": {
  "kernelspec": {
   "display_name": "Python 3 (ipykernel)",
   "language": "python",
   "name": "python3"
  },
  "language_info": {
   "codemirror_mode": {
    "name": "ipython",
    "version": 3
   },
   "file_extension": ".py",
   "mimetype": "text/x-python",
   "name": "python",
   "nbconvert_exporter": "python",
   "pygments_lexer": "ipython3",
   "version": "3.9.12"
  }
 },
 "nbformat": 4,
 "nbformat_minor": 5
}
