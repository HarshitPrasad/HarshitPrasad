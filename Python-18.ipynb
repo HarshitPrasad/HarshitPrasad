{
 "cells": [
  {
   "cell_type": "code",
   "execution_count": 2,
   "id": "aa85fb3d",
   "metadata": {},
   "outputs": [],
   "source": [
    "class student:\n",
    "    def __init__(self,name,age):\n",
    "        self.name=name\n",
    "        self.age=age\n",
    "s=student('a',23)\n"
   ]
  },
  {
   "cell_type": "code",
   "execution_count": 3,
   "id": "f9c5a35a",
   "metadata": {},
   "outputs": [
    {
     "data": {
      "text/plain": [
       "23"
      ]
     },
     "execution_count": 3,
     "metadata": {},
     "output_type": "execute_result"
    }
   ],
   "source": [
    "s.age"
   ]
  },
  {
   "cell_type": "code",
   "execution_count": 4,
   "id": "fcf6ec7c",
   "metadata": {},
   "outputs": [
    {
     "data": {
      "text/plain": [
       "'a'"
      ]
     },
     "execution_count": 4,
     "metadata": {},
     "output_type": "execute_result"
    }
   ],
   "source": [
    "s.name"
   ]
  },
  {
   "cell_type": "code",
   "execution_count": 5,
   "id": "163c3a4b",
   "metadata": {},
   "outputs": [],
   "source": [
    "class employee_details:\n",
    "    def __init__(self,name,emp_id,salary):\n",
    "        self.name=name\n",
    "        self.emp_id=emp_id\n",
    "        self.salary=salary\n",
    "d=employee_details('Harshit',106,50000)"
   ]
  },
  {
   "cell_type": "code",
   "execution_count": 8,
   "id": "5e962a03",
   "metadata": {},
   "outputs": [
    {
     "data": {
      "text/plain": [
       "'Harshit'"
      ]
     },
     "execution_count": 8,
     "metadata": {},
     "output_type": "execute_result"
    }
   ],
   "source": [
    "d.name"
   ]
  },
  {
   "cell_type": "code",
   "execution_count": 10,
   "id": "089dce75",
   "metadata": {},
   "outputs": [
    {
     "data": {
      "text/plain": [
       "106"
      ]
     },
     "execution_count": 10,
     "metadata": {},
     "output_type": "execute_result"
    }
   ],
   "source": [
    "d.emp_id"
   ]
  },
  {
   "cell_type": "code",
   "execution_count": 11,
   "id": "086f79ea",
   "metadata": {},
   "outputs": [
    {
     "data": {
      "text/plain": [
       "50000"
      ]
     },
     "execution_count": 11,
     "metadata": {},
     "output_type": "execute_result"
    }
   ],
   "source": [
    "d.salary"
   ]
  },
  {
   "cell_type": "code",
   "execution_count": 13,
   "id": "da763a97",
   "metadata": {},
   "outputs": [],
   "source": [
    "class pc:\n",
    "    def __init__(self,name,addr):\n",
    "        self.name=name\n",
    "        self.addr=addr\n",
    "class child(pc):\n",
    "    def __init__(self,name,addr,marks):\n",
    "        pc.__init__(self,name,addr)\n",
    "        self.marks=marks\n",
    "c=child('harshit','uttar pradesh',777)"
   ]
  },
  {
   "cell_type": "code",
   "execution_count": 14,
   "id": "cf0bad42",
   "metadata": {},
   "outputs": [
    {
     "data": {
      "text/plain": [
       "'harshit'"
      ]
     },
     "execution_count": 14,
     "metadata": {},
     "output_type": "execute_result"
    }
   ],
   "source": [
    "c.name"
   ]
  },
  {
   "cell_type": "code",
   "execution_count": 15,
   "id": "5378c24e",
   "metadata": {},
   "outputs": [
    {
     "data": {
      "text/plain": [
       "'uttar pradesh'"
      ]
     },
     "execution_count": 15,
     "metadata": {},
     "output_type": "execute_result"
    }
   ],
   "source": [
    "c.addr"
   ]
  },
  {
   "cell_type": "code",
   "execution_count": 16,
   "id": "9e5e8e94",
   "metadata": {},
   "outputs": [
    {
     "data": {
      "text/plain": [
       "777"
      ]
     },
     "execution_count": 16,
     "metadata": {},
     "output_type": "execute_result"
    }
   ],
   "source": [
    "c.marks"
   ]
  },
  {
   "cell_type": "code",
   "execution_count": 7,
   "id": "ffdaa6b8",
   "metadata": {},
   "outputs": [
    {
     "name": "stdout",
     "output_type": "stream",
     "text": [
      "enter the digit5\n",
      "enter the digit6\n"
     ]
    },
    {
     "data": {
      "text/plain": [
       "11"
      ]
     },
     "execution_count": 7,
     "metadata": {},
     "output_type": "execute_result"
    }
   ],
   "source": [
    "class addtion:\n",
    "    def add(self):\n",
    "        a=int(input(\"enter the digit\"))\n",
    "        b=int(input(\"enter the digit\"))\n",
    "        c=a+b\n",
    "        return c\n",
    "res=addtion()\n",
    "res.add()"
   ]
  },
  {
   "cell_type": "code",
   "execution_count": 4,
   "id": "67a97675",
   "metadata": {},
   "outputs": [
    {
     "name": "stdout",
     "output_type": "stream",
     "text": [
      "good morning\n"
     ]
    }
   ],
   "source": [
    "class greet:\n",
    "    def wish(self):\n",
    "        print(\"good morning\")\n",
    "g=greet()\n",
    "g.wish()"
   ]
  },
  {
   "cell_type": "markdown",
   "id": "50b5d271",
   "metadata": {},
   "source": [
    "# constructor"
   ]
  },
  {
   "cell_type": "code",
   "execution_count": 8,
   "id": "e2bdae9e",
   "metadata": {},
   "outputs": [],
   "source": [
    "class student:\n",
    "    def __init__(self,name,age):\n",
    "        self.name=name\n",
    "        self.age=age\n",
    "s=student('Harshit',24)"
   ]
  },
  {
   "cell_type": "code",
   "execution_count": 9,
   "id": "53eab73d",
   "metadata": {},
   "outputs": [
    {
     "data": {
      "text/plain": [
       "'Harshit'"
      ]
     },
     "execution_count": 9,
     "metadata": {},
     "output_type": "execute_result"
    }
   ],
   "source": [
    "s.name"
   ]
  },
  {
   "cell_type": "code",
   "execution_count": 10,
   "id": "a47748b6",
   "metadata": {},
   "outputs": [
    {
     "data": {
      "text/plain": [
       "24"
      ]
     },
     "execution_count": 10,
     "metadata": {},
     "output_type": "execute_result"
    }
   ],
   "source": [
    "s.age"
   ]
  },
  {
   "cell_type": "code",
   "execution_count": 11,
   "id": "3f0a8a32",
   "metadata": {},
   "outputs": [],
   "source": [
    "class employee_details:\n",
    "    def __init__(self,name,emp_id,salary):\n",
    "        self.name=name\n",
    "        self.emp_id=emp_id\n",
    "        self.salary=salary\n",
    "d=employee_details('Vihan',100,50000)"
   ]
  },
  {
   "cell_type": "code",
   "execution_count": 13,
   "id": "800fa8cd",
   "metadata": {},
   "outputs": [
    {
     "data": {
      "text/plain": [
       "'Vihan'"
      ]
     },
     "execution_count": 13,
     "metadata": {},
     "output_type": "execute_result"
    }
   ],
   "source": [
    "d.name"
   ]
  },
  {
   "cell_type": "code",
   "execution_count": 14,
   "id": "ced9693f",
   "metadata": {
    "scrolled": true
   },
   "outputs": [
    {
     "data": {
      "text/plain": [
       "100"
      ]
     },
     "execution_count": 14,
     "metadata": {},
     "output_type": "execute_result"
    }
   ],
   "source": [
    "d.emp_id"
   ]
  },
  {
   "cell_type": "markdown",
   "id": "82625eb7",
   "metadata": {},
   "source": [
    "# Inheritance"
   ]
  },
  {
   "cell_type": "code",
   "execution_count": 17,
   "id": "d0fd188b",
   "metadata": {},
   "outputs": [],
   "source": [
    "class pc:\n",
    "    def __init__(self,name,add):\n",
    "        self.name=name\n",
    "        self.add=add\n",
    "class child(pc):\n",
    "    def __init__(self,name,add,marks):\n",
    "        pc.__init__(self,name,add)\n",
    "        self.marks=marks\n",
    "c=child('Vihan','MP',777)"
   ]
  },
  {
   "cell_type": "code",
   "execution_count": 18,
   "id": "62d854a7",
   "metadata": {},
   "outputs": [
    {
     "data": {
      "text/plain": [
       "'Vihan'"
      ]
     },
     "execution_count": 18,
     "metadata": {},
     "output_type": "execute_result"
    }
   ],
   "source": [
    "c.name"
   ]
  },
  {
   "cell_type": "code",
   "execution_count": 19,
   "id": "95c66725",
   "metadata": {},
   "outputs": [
    {
     "data": {
      "text/plain": [
       "'MP'"
      ]
     },
     "execution_count": 19,
     "metadata": {},
     "output_type": "execute_result"
    }
   ],
   "source": [
    "c.add"
   ]
  },
  {
   "cell_type": "code",
   "execution_count": 20,
   "id": "b540ef75",
   "metadata": {},
   "outputs": [
    {
     "data": {
      "text/plain": [
       "777"
      ]
     },
     "execution_count": 20,
     "metadata": {},
     "output_type": "execute_result"
    }
   ],
   "source": [
    "c.marks"
   ]
  },
  {
   "cell_type": "code",
   "execution_count": 2,
   "id": "d3ca17e7",
   "metadata": {},
   "outputs": [],
   "source": [
    "class bike1:\n",
    "    def __init__(self,dis,time):\n",
    "        self.dis=dis\n",
    "        self.time=time\n",
    "class bike2(bike1):\n",
    "    def __init__(self,dis,time,color):\n",
    "        bike1.__init__(self,dis,time)\n",
    "        self.color=color\n",
    "    \n",
    "    def speed (self):\n",
    "        s=self.dis/self.time\n",
    "        return s\n",
    "\n",
    "b=bike2(346,5,'white')"
   ]
  },
  {
   "cell_type": "code",
   "execution_count": 22,
   "id": "3f93e58d",
   "metadata": {},
   "outputs": [
    {
     "data": {
      "text/plain": [
       "'white'"
      ]
     },
     "execution_count": 22,
     "metadata": {},
     "output_type": "execute_result"
    }
   ],
   "source": [
    "b.color"
   ]
  },
  {
   "cell_type": "code",
   "execution_count": 23,
   "id": "ea35cc34",
   "metadata": {},
   "outputs": [
    {
     "data": {
      "text/plain": [
       "346"
      ]
     },
     "execution_count": 23,
     "metadata": {},
     "output_type": "execute_result"
    }
   ],
   "source": [
    "b.dis"
   ]
  },
  {
   "cell_type": "code",
   "execution_count": 24,
   "id": "b972d480",
   "metadata": {},
   "outputs": [
    {
     "data": {
      "text/plain": [
       "5"
      ]
     },
     "execution_count": 24,
     "metadata": {},
     "output_type": "execute_result"
    }
   ],
   "source": [
    "b.time"
   ]
  },
  {
   "cell_type": "code",
   "execution_count": 4,
   "id": "64e8b533",
   "metadata": {},
   "outputs": [
    {
     "data": {
      "text/plain": [
       "69.2"
      ]
     },
     "execution_count": 4,
     "metadata": {},
     "output_type": "execute_result"
    }
   ],
   "source": [
    "b.speed()"
   ]
  },
  {
   "cell_type": "markdown",
   "id": "1a9ec437",
   "metadata": {},
   "source": [
    "# Mutli-level inheritance\n"
   ]
  },
  {
   "cell_type": "code",
   "execution_count": 4,
   "id": "ec24d8a4",
   "metadata": {},
   "outputs": [],
   "source": [
    "class gpc:\n",
    "    def __init__(self,name):\n",
    "        self.name=name\n",
    "class pc(gpc):\n",
    "    def __init__(self,name,age):\n",
    "        gpc.__init__(self,name)\n",
    "        self.age=age\n",
    "class cc(pc):\n",
    "    def __init__(self,name,age,marks):\n",
    "        pc.__init__(self,name,age)\n",
    "        self.marks=marks\n",
    "c=cc('vihan',24,777)        "
   ]
  },
  {
   "cell_type": "code",
   "execution_count": 5,
   "id": "fdd41d5e",
   "metadata": {},
   "outputs": [
    {
     "data": {
      "text/plain": [
       "'vihan'"
      ]
     },
     "execution_count": 5,
     "metadata": {},
     "output_type": "execute_result"
    }
   ],
   "source": [
    "c.name"
   ]
  },
  {
   "cell_type": "code",
   "execution_count": 6,
   "id": "abde98c5",
   "metadata": {},
   "outputs": [
    {
     "data": {
      "text/plain": [
       "24"
      ]
     },
     "execution_count": 6,
     "metadata": {},
     "output_type": "execute_result"
    }
   ],
   "source": [
    "c.age"
   ]
  },
  {
   "cell_type": "code",
   "execution_count": 7,
   "id": "c2ae9e98",
   "metadata": {},
   "outputs": [
    {
     "data": {
      "text/plain": [
       "777"
      ]
     },
     "execution_count": 7,
     "metadata": {},
     "output_type": "execute_result"
    }
   ],
   "source": [
    "c.marks"
   ]
  },
  {
   "cell_type": "code",
   "execution_count": 1,
   "id": "7e796fd8",
   "metadata": {},
   "outputs": [],
   "source": [
    "class employee_details:\n",
    "    def __init__(self,name,emp_id,sal):\n",
    "        self.name=name\n",
    "        self.emp_id=emp_id\n",
    "        self.sal=sal\n",
    "s=employee_details('vihan',1006,50000)"
   ]
  },
  {
   "cell_type": "code",
   "execution_count": 2,
   "id": "30e31b65",
   "metadata": {},
   "outputs": [
    {
     "data": {
      "text/plain": [
       "'vihan'"
      ]
     },
     "execution_count": 2,
     "metadata": {},
     "output_type": "execute_result"
    }
   ],
   "source": [
    "s.name"
   ]
  },
  {
   "cell_type": "code",
   "execution_count": 3,
   "id": "2cb1fcc5",
   "metadata": {},
   "outputs": [
    {
     "data": {
      "text/plain": [
       "1006"
      ]
     },
     "execution_count": 3,
     "metadata": {},
     "output_type": "execute_result"
    }
   ],
   "source": [
    "s.emp_id"
   ]
  },
  {
   "cell_type": "code",
   "execution_count": 4,
   "id": "d6cb267f",
   "metadata": {},
   "outputs": [
    {
     "data": {
      "text/plain": [
       "50000"
      ]
     },
     "execution_count": 4,
     "metadata": {},
     "output_type": "execute_result"
    }
   ],
   "source": [
    "s.sal"
   ]
  },
  {
   "cell_type": "code",
   "execution_count": 1,
   "id": "d87b489d",
   "metadata": {},
   "outputs": [],
   "source": [
    "class gpc:\n",
    "    def __init__(self,name):\n",
    "        self.name=name\n",
    "class pc(gpc):\n",
    "    def __init__(self,name,age):\n",
    "        gpc.__init__(self,name)\n",
    "        self.age=age\n",
    "class cc(pc):\n",
    "    def __init__(self,name,age,marks):\n",
    "        pc.__init__(self,name,age)\n",
    "        self.marks=marks\n",
    "c=cc('vihan',24,777)"
   ]
  },
  {
   "cell_type": "code",
   "execution_count": 2,
   "id": "8155d2af",
   "metadata": {},
   "outputs": [
    {
     "data": {
      "text/plain": [
       "'vihan'"
      ]
     },
     "execution_count": 2,
     "metadata": {},
     "output_type": "execute_result"
    }
   ],
   "source": [
    "c.name"
   ]
  },
  {
   "cell_type": "code",
   "execution_count": 3,
   "id": "d1da9e6a",
   "metadata": {},
   "outputs": [
    {
     "data": {
      "text/plain": [
       "24"
      ]
     },
     "execution_count": 3,
     "metadata": {},
     "output_type": "execute_result"
    }
   ],
   "source": [
    "c.age"
   ]
  },
  {
   "cell_type": "code",
   "execution_count": 4,
   "id": "49de258d",
   "metadata": {},
   "outputs": [
    {
     "data": {
      "text/plain": [
       "777"
      ]
     },
     "execution_count": 4,
     "metadata": {},
     "output_type": "execute_result"
    }
   ],
   "source": [
    "c.marks"
   ]
  },
  {
   "cell_type": "code",
   "execution_count": null,
   "id": "29d118ab",
   "metadata": {},
   "outputs": [],
   "source": []
  }
 ],
 "metadata": {
  "kernelspec": {
   "display_name": "Python 3 (ipykernel)",
   "language": "python",
   "name": "python3"
  },
  "language_info": {
   "codemirror_mode": {
    "name": "ipython",
    "version": 3
   },
   "file_extension": ".py",
   "mimetype": "text/x-python",
   "name": "python",
   "nbconvert_exporter": "python",
   "pygments_lexer": "ipython3",
   "version": "3.9.12"
  }
 },
 "nbformat": 4,
 "nbformat_minor": 5
}
