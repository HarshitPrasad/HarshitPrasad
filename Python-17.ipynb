{
 "cells": [
  {
   "cell_type": "code",
   "execution_count": 1,
   "id": "8453b15b",
   "metadata": {},
   "outputs": [
    {
     "name": "stdout",
     "output_type": "stream",
     "text": [
      "hello world\n"
     ]
    }
   ],
   "source": [
    "class greet:\n",
    "    def fun(self):\n",
    "        print(\"hello world\")\n",
    "g=greet()\n",
    "g.fun()"
   ]
  },
  {
   "cell_type": "code",
   "execution_count": 3,
   "id": "88d95d8f",
   "metadata": {},
   "outputs": [
    {
     "name": "stdout",
     "output_type": "stream",
     "text": [
      "enter the first number 4\n",
      "enterthe second number 5\n"
     ]
    },
    {
     "data": {
      "text/plain": [
       "9"
      ]
     },
     "execution_count": 3,
     "metadata": {},
     "output_type": "execute_result"
    }
   ],
   "source": [
    "class add:\n",
    "    def addtion(self):\n",
    "        a=int(input(\"enter the first number \"))\n",
    "        b=int(input(\"enterthe second number \"))\n",
    "        c=a+b\n",
    "        return c\n",
    "r=add()\n",
    "r.addtion()"
   ]
  },
  {
   "cell_type": "code",
   "execution_count": 13,
   "id": "1a8c51c8",
   "metadata": {},
   "outputs": [
    {
     "name": "stdout",
     "output_type": "stream",
     "text": [
      "enter the salary10000\n",
      "enter the leaves5\n",
      "11200.0\n"
     ]
    }
   ],
   "source": [
    "class employee_salary_details:\n",
    "    def salary(self):\n",
    "        salary=int(input(\"enter the salary\"))\n",
    "        leaves=int(input(\"enter the leaves\"))\n",
    "        if leaves>5:\n",
    "            ded=(salary*5)/100\n",
    "            salary_after_deduction=salary-ded\n",
    "            print(salary_after_deduction)\n",
    "        else:\n",
    "            bonus=(salary*12)/100\n",
    "            salary_after_bonus=salary+bonus\n",
    "            print(salary_after_bonus)\n",
    "r=employee_salary_details()\n",
    "r.salary()"
   ]
  },
  {
   "cell_type": "code",
   "execution_count": null,
   "id": "52658235",
   "metadata": {},
   "outputs": [],
   "source": []
  }
 ],
 "metadata": {
  "kernelspec": {
   "display_name": "Python 3 (ipykernel)",
   "language": "python",
   "name": "python3"
  },
  "language_info": {
   "codemirror_mode": {
    "name": "ipython",
    "version": 3
   },
   "file_extension": ".py",
   "mimetype": "text/x-python",
   "name": "python",
   "nbconvert_exporter": "python",
   "pygments_lexer": "ipython3",
   "version": "3.9.12"
  }
 },
 "nbformat": 4,
 "nbformat_minor": 5
}
