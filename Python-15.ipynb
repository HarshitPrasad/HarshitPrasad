{
 "cells": [
  {
   "cell_type": "code",
   "execution_count": 1,
   "id": "cb6c89d9",
   "metadata": {},
   "outputs": [],
   "source": [
    "def greeting():\n",
    "    print(\"good morning\")"
   ]
  },
  {
   "cell_type": "code",
   "execution_count": 3,
   "id": "e67cfc55",
   "metadata": {},
   "outputs": [
    {
     "name": "stdout",
     "output_type": "stream",
     "text": [
      "good morning\n"
     ]
    }
   ],
   "source": [
    "greeting()"
   ]
  },
  {
   "cell_type": "code",
   "execution_count": 4,
   "id": "36ceb205",
   "metadata": {},
   "outputs": [],
   "source": [
    "def bye():\n",
    "    print(\"good bye\")"
   ]
  },
  {
   "cell_type": "code",
   "execution_count": 6,
   "id": "e3615769",
   "metadata": {},
   "outputs": [
    {
     "name": "stdout",
     "output_type": "stream",
     "text": [
      "good bye\n"
     ]
    }
   ],
   "source": [
    "bye()"
   ]
  },
  {
   "cell_type": "code",
   "execution_count": 9,
   "id": "d4339e30",
   "metadata": {},
   "outputs": [],
   "source": [
    "def add():\n",
    "    a=int(input(\"enter the first number\"))\n",
    "    b=int(input(\"enter the second number\"))\n",
    "    c=a+b\n",
    "    print(c)"
   ]
  },
  {
   "cell_type": "code",
   "execution_count": 10,
   "id": "379451fd",
   "metadata": {},
   "outputs": [
    {
     "name": "stdout",
     "output_type": "stream",
     "text": [
      "enter the first number7\n",
      "enter the second number4\n",
      "11\n"
     ]
    }
   ],
   "source": [
    "add()"
   ]
  },
  {
   "cell_type": "code",
   "execution_count": 11,
   "id": "121ee3e7",
   "metadata": {},
   "outputs": [],
   "source": [
    "def add(x,y):\n",
    "    z=x+y\n",
    "    print(z)"
   ]
  },
  {
   "cell_type": "code",
   "execution_count": 13,
   "id": "6e5669ec",
   "metadata": {},
   "outputs": [
    {
     "name": "stdout",
     "output_type": "stream",
     "text": [
      "30\n"
     ]
    }
   ],
   "source": [
    "add(10,20)"
   ]
  },
  {
   "cell_type": "code",
   "execution_count": 18,
   "id": "c4d6be8f",
   "metadata": {},
   "outputs": [],
   "source": [
    "def add(x,y):\n",
    "    z=x+y\n",
    "    return z"
   ]
  },
  {
   "cell_type": "code",
   "execution_count": 19,
   "id": "810cf6d7",
   "metadata": {},
   "outputs": [
    {
     "data": {
      "text/plain": [
       "30"
      ]
     },
     "execution_count": 19,
     "metadata": {},
     "output_type": "execute_result"
    }
   ],
   "source": [
    "add(10,20)"
   ]
  },
  {
   "cell_type": "code",
   "execution_count": 20,
   "id": "6f49c9d1",
   "metadata": {},
   "outputs": [],
   "source": [
    "def addtion():\n",
    "    x=4\n",
    "    y=2\n",
    "    z=x+y\n",
    "    return z"
   ]
  },
  {
   "cell_type": "code",
   "execution_count": 21,
   "id": "abfcdfdd",
   "metadata": {},
   "outputs": [
    {
     "data": {
      "text/plain": [
       "6"
      ]
     },
     "execution_count": 21,
     "metadata": {},
     "output_type": "execute_result"
    }
   ],
   "source": [
    "addtion()"
   ]
  },
  {
   "cell_type": "code",
   "execution_count": 23,
   "id": "c2276066",
   "metadata": {},
   "outputs": [],
   "source": [
    "def max():\n",
    "    a=int(input(\"enter the first number\"))\n",
    "    b=int(input(\"enter the second number\"))\n",
    "    c=int(input(\"enter the third number\"))\n",
    "    if a>b and a>c:\n",
    "        print(a)\n",
    "    elif b>a and b>c:\n",
    "        print(b)\n",
    "    elif c>a and c>b:\n",
    "        print(c)"
   ]
  },
  {
   "cell_type": "code",
   "execution_count": 24,
   "id": "bf77a2a6",
   "metadata": {},
   "outputs": [
    {
     "name": "stdout",
     "output_type": "stream",
     "text": [
      "enter the first number32\n",
      "enter the second number45\n",
      "enter the third number33\n",
      "45\n"
     ]
    }
   ],
   "source": [
    "max()"
   ]
  },
  {
   "cell_type": "code",
   "execution_count": 27,
   "id": "1e51dd30",
   "metadata": {},
   "outputs": [],
   "source": [
    "def even():\n",
    "    a=int(input(\"enter the first number\"))\n",
    "    if a%2==0:\n",
    "        print(\"even\")\n",
    "    else:\n",
    "        print(\"odd\")"
   ]
  },
  {
   "cell_type": "code",
   "execution_count": 29,
   "id": "b5cc5f00",
   "metadata": {},
   "outputs": [
    {
     "name": "stdout",
     "output_type": "stream",
     "text": [
      "enter the first number44\n",
      "even\n"
     ]
    }
   ],
   "source": [
    "even()"
   ]
  },
  {
   "cell_type": "code",
   "execution_count": null,
   "id": "1607edc9",
   "metadata": {},
   "outputs": [],
   "source": []
  }
 ],
 "metadata": {
  "kernelspec": {
   "display_name": "Python 3 (ipykernel)",
   "language": "python",
   "name": "python3"
  },
  "language_info": {
   "codemirror_mode": {
    "name": "ipython",
    "version": 3
   },
   "file_extension": ".py",
   "mimetype": "text/x-python",
   "name": "python",
   "nbconvert_exporter": "python",
   "pygments_lexer": "ipython3",
   "version": "3.9.12"
  }
 },
 "nbformat": 4,
 "nbformat_minor": 5
}
