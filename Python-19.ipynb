{
 "cells": [
  {
   "cell_type": "markdown",
   "id": "694e7f80",
   "metadata": {},
   "source": [
    "# ENCAPSULATION"
   ]
  },
  {
   "cell_type": "code",
   "execution_count": 4,
   "id": "e52af00f",
   "metadata": {},
   "outputs": [
    {
     "name": "stdout",
     "output_type": "stream",
     "text": [
      "vihan\n",
      "50000\n"
     ]
    }
   ],
   "source": [
    "#Public code\n",
    "\n",
    "class emp:\n",
    "    def fun(self,name,sal):\n",
    "        print(name)\n",
    "        print(sal)\n",
    "e=emp()\n",
    "e.fun('vihan',50000)"
   ]
  },
  {
   "cell_type": "code",
   "execution_count": 14,
   "id": "0f5d4412",
   "metadata": {},
   "outputs": [
    {
     "name": "stdout",
     "output_type": "stream",
     "text": [
      "a\n"
     ]
    }
   ],
   "source": [
    "#Private code\n",
    "\n",
    "class emp:\n",
    "    def fun(self,name):\n",
    "        print(name)\n",
    "        \n",
    "    def __info(self,sal):\n",
    "        print(sal)\n",
    "e=emp()\n",
    "e.fun('a')"
   ]
  },
  {
   "cell_type": "code",
   "execution_count": 17,
   "id": "28b881af",
   "metadata": {},
   "outputs": [],
   "source": [
    "class emp:\n",
    "    def __init__(self,name,__sal):\n",
    "        self.name=name\n",
    "        self.__sal=__sal\n",
    "e=emp('a',90)"
   ]
  },
  {
   "cell_type": "code",
   "execution_count": 18,
   "id": "19995282",
   "metadata": {},
   "outputs": [
    {
     "data": {
      "text/plain": [
       "'a'"
      ]
     },
     "execution_count": 18,
     "metadata": {},
     "output_type": "execute_result"
    }
   ],
   "source": [
    "e.name"
   ]
  },
  {
   "cell_type": "code",
   "execution_count": 1,
   "id": "b0473ec1",
   "metadata": {},
   "outputs": [
    {
     "ename": "NameError",
     "evalue": "name 'e' is not defined",
     "output_type": "error",
     "traceback": [
      "\u001b[1;31m---------------------------------------------------------------------------\u001b[0m",
      "\u001b[1;31mNameError\u001b[0m                                 Traceback (most recent call last)",
      "Input \u001b[1;32mIn [1]\u001b[0m, in \u001b[0;36m<cell line: 1>\u001b[1;34m()\u001b[0m\n\u001b[1;32m----> 1\u001b[0m \u001b[43me\u001b[49m\u001b[38;5;241m.\u001b[39msal\n",
      "\u001b[1;31mNameError\u001b[0m: name 'e' is not defined"
     ]
    }
   ],
   "source": [
    "e.sal"
   ]
  },
  {
   "cell_type": "markdown",
   "id": "5962cc72",
   "metadata": {},
   "source": [
    "# POLYMORPHISM"
   ]
  },
  {
   "cell_type": "code",
   "execution_count": 2,
   "id": "5df3ddbe",
   "metadata": {},
   "outputs": [
    {
     "name": "stdout",
     "output_type": "stream",
     "text": [
      "3\n",
      "76\n"
     ]
    }
   ],
   "source": [
    "#Operator overloading:-\n",
    "\n",
    "a=1\n",
    "b=2\n",
    "c=a+b\n",
    "print(c)\n",
    "\n",
    "\n",
    "x='7'\n",
    "y='6'\n",
    "z=x+y\n",
    "print(z)"
   ]
  },
  {
   "cell_type": "code",
   "execution_count": 10,
   "id": "70a1629e",
   "metadata": {},
   "outputs": [
    {
     "data": {
      "text/plain": [
       "6"
      ]
     },
     "execution_count": 10,
     "metadata": {},
     "output_type": "execute_result"
    }
   ],
   "source": [
    "#Function Overloadinng:-\n",
    "\n",
    "def fun(a,b):\n",
    "    c=a+b\n",
    "    return c\n",
    "fun(2,4)\n",
    "\n"
   ]
  },
  {
   "cell_type": "code",
   "execution_count": 11,
   "id": "e095ae1d",
   "metadata": {},
   "outputs": [
    {
     "data": {
      "text/plain": [
       "10"
      ]
     },
     "execution_count": 11,
     "metadata": {},
     "output_type": "execute_result"
    }
   ],
   "source": [
    "#Function Overloading:-\n",
    "def add(x=2,y=8):\n",
    "    z=x+y\n",
    "    return z\n",
    "add()"
   ]
  },
  {
   "cell_type": "markdown",
   "id": "d0bc15ea",
   "metadata": {},
   "source": [
    "# OOPS HAS FINISHED HERE:-"
   ]
  },
  {
   "cell_type": "markdown",
   "id": "7230bdb5",
   "metadata": {},
   "source": [
    "# ADVANCE  FUNTION\n",
    "## 1- LAMDA FUNCTION--A.ONE LINE B.ONE LINER FUNCTION C.ANONYMOUS FUNCTION\n",
    "## 2- FILTER\n",
    "## 3- MAP\n",
    "## 4- REDUSE"
   ]
  },
  {
   "cell_type": "code",
   "execution_count": 6,
   "id": "c941ba1d",
   "metadata": {},
   "outputs": [],
   "source": [
    "#LAMDA FUNCTION:-\n",
    "#wap to find a number is even or odd using lambda function:-\n",
    "a= lambda x:\"even\" if x%2==0 else \"odd\""
   ]
  },
  {
   "cell_type": "code",
   "execution_count": 7,
   "id": "93993c88",
   "metadata": {},
   "outputs": [
    {
     "data": {
      "text/plain": [
       "'odd'"
      ]
     },
     "execution_count": 7,
     "metadata": {},
     "output_type": "execute_result"
    }
   ],
   "source": [
    "a(23)"
   ]
  },
  {
   "cell_type": "code",
   "execution_count": 8,
   "id": "93ab2985",
   "metadata": {},
   "outputs": [
    {
     "data": {
      "text/plain": [
       "'even'"
      ]
     },
     "execution_count": 8,
     "metadata": {},
     "output_type": "execute_result"
    }
   ],
   "source": [
    "a(24)"
   ]
  },
  {
   "cell_type": "code",
   "execution_count": 9,
   "id": "87e65391",
   "metadata": {},
   "outputs": [
    {
     "data": {
      "text/plain": [
       "[67, 89, 90, 98, 87]"
      ]
     },
     "execution_count": 9,
     "metadata": {},
     "output_type": "execute_result"
    }
   ],
   "source": [
    "a=[34,45,56,67,89,90,12,23,33,98,87,43]\n",
    "list(filter(lambda x:True if x>60 else False,a))"
   ]
  },
  {
   "cell_type": "code",
   "execution_count": 10,
   "id": "0db4ecc3",
   "metadata": {},
   "outputs": [],
   "source": [
    "a=lambda x:\"even\" if x%2==0 else \"odd\""
   ]
  },
  {
   "cell_type": "code",
   "execution_count": 11,
   "id": "0e225395",
   "metadata": {},
   "outputs": [
    {
     "data": {
      "text/plain": [
       "'even'"
      ]
     },
     "execution_count": 11,
     "metadata": {},
     "output_type": "execute_result"
    }
   ],
   "source": [
    "a(12)"
   ]
  },
  {
   "cell_type": "code",
   "execution_count": 12,
   "id": "39fd783b",
   "metadata": {},
   "outputs": [
    {
     "data": {
      "text/plain": [
       "'odd'"
      ]
     },
     "execution_count": 12,
     "metadata": {},
     "output_type": "execute_result"
    }
   ],
   "source": [
    "a(1)"
   ]
  },
  {
   "cell_type": "code",
   "execution_count": 13,
   "id": "f521c1f0",
   "metadata": {},
   "outputs": [],
   "source": [
    "a= lambda x: x*2"
   ]
  },
  {
   "cell_type": "code",
   "execution_count": 14,
   "id": "c692871d",
   "metadata": {},
   "outputs": [
    {
     "data": {
      "text/plain": [
       "8"
      ]
     },
     "execution_count": 14,
     "metadata": {},
     "output_type": "execute_result"
    }
   ],
   "source": [
    "a(4)"
   ]
  },
  {
   "cell_type": "code",
   "execution_count": 15,
   "id": "01095893",
   "metadata": {},
   "outputs": [],
   "source": [
    "a= lambda x: x*3"
   ]
  },
  {
   "cell_type": "code",
   "execution_count": 16,
   "id": "fe72394c",
   "metadata": {},
   "outputs": [
    {
     "data": {
      "text/plain": [
       "21"
      ]
     },
     "execution_count": 16,
     "metadata": {},
     "output_type": "execute_result"
    }
   ],
   "source": [
    "a(7)"
   ]
  },
  {
   "cell_type": "code",
   "execution_count": 9,
   "id": "d0cbcb27",
   "metadata": {},
   "outputs": [],
   "source": [
    "a= lambda p,q,r,s,t: (p+q+r+s+t)/5"
   ]
  },
  {
   "cell_type": "code",
   "execution_count": 10,
   "id": "4753c220",
   "metadata": {},
   "outputs": [
    {
     "data": {
      "text/plain": [
       "3.0"
      ]
     },
     "execution_count": 10,
     "metadata": {},
     "output_type": "execute_result"
    }
   ],
   "source": [
    "a(1,2,3,4,5)"
   ]
  },
  {
   "cell_type": "code",
   "execution_count": 11,
   "id": "f706f89c",
   "metadata": {},
   "outputs": [],
   "source": [
    "a= lambda x:\"even\" if x%2==0 else \"odd\""
   ]
  },
  {
   "cell_type": "code",
   "execution_count": 12,
   "id": "c35fbad2",
   "metadata": {},
   "outputs": [
    {
     "data": {
      "text/plain": [
       "'odd'"
      ]
     },
     "execution_count": 12,
     "metadata": {},
     "output_type": "execute_result"
    }
   ],
   "source": [
    "a(87)"
   ]
  },
  {
   "cell_type": "code",
   "execution_count": 13,
   "id": "38deeebc",
   "metadata": {},
   "outputs": [
    {
     "data": {
      "text/plain": [
       "'even'"
      ]
     },
     "execution_count": 13,
     "metadata": {},
     "output_type": "execute_result"
    }
   ],
   "source": [
    "a(88)"
   ]
  },
  {
   "cell_type": "markdown",
   "id": "3350ce61",
   "metadata": {},
   "source": [
    "# Filter function\n"
   ]
  },
  {
   "cell_type": "code",
   "execution_count": 1,
   "id": "3829afb3",
   "metadata": {},
   "outputs": [
    {
     "data": {
      "text/plain": [
       "[67, 89, 90, 98, 87]"
      ]
     },
     "execution_count": 1,
     "metadata": {},
     "output_type": "execute_result"
    }
   ],
   "source": [
    "a=[34,45,56,67,89,90,12,23,33,98,87,43]\n",
    "list(filter((lambda x: True if x>=60 else False),a))"
   ]
  },
  {
   "cell_type": "code",
   "execution_count": null,
   "id": "f10b1d6f",
   "metadata": {},
   "outputs": [],
   "source": []
  }
 ],
 "metadata": {
  "kernelspec": {
   "display_name": "Python 3 (ipykernel)",
   "language": "python",
   "name": "python3"
  },
  "language_info": {
   "codemirror_mode": {
    "name": "ipython",
    "version": 3
   },
   "file_extension": ".py",
   "mimetype": "text/x-python",
   "name": "python",
   "nbconvert_exporter": "python",
   "pygments_lexer": "ipython3",
   "version": "3.9.12"
  }
 },
 "nbformat": 4,
 "nbformat_minor": 5
}
