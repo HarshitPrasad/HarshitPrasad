{
 "cells": [
  {
   "cell_type": "code",
   "execution_count": 1,
   "id": "67cd59bc",
   "metadata": {},
   "outputs": [],
   "source": [
    "x=(1,3,5,2,3,5,1,1,3,7)\n",
    "y=[]\n",
    "for i in x:\n",
    "    if i not in y:\n",
    "        y.append(i)"
   ]
  },
  {
   "cell_type": "code",
   "execution_count": 2,
   "id": "30bea003",
   "metadata": {},
   "outputs": [],
   "source": [
    "res=tuple(y)"
   ]
  },
  {
   "cell_type": "code",
   "execution_count": 3,
   "id": "11360f10",
   "metadata": {},
   "outputs": [
    {
     "name": "stdout",
     "output_type": "stream",
     "text": [
      "(1, 3, 5, 2, 7)\n"
     ]
    }
   ],
   "source": [
    "print(res)"
   ]
  },
  {
   "cell_type": "code",
   "execution_count": null,
   "id": "ef64ed98",
   "metadata": {},
   "outputs": [],
   "source": [
    "a=int(input(\"Enter the first number\"))\n",
    "b=int(input(\"Enter the second number\"))\n",
    "a,b=b,a\n",
    "print(a,b)"
   ]
  },
  {
   "cell_type": "code",
   "execution_count": 8,
   "id": "4761147c",
   "metadata": {},
   "outputs": [
    {
     "name": "stdout",
     "output_type": "stream",
     "text": [
      "enter the age19\n",
      "Adult\n"
     ]
    }
   ],
   "source": [
    "age=int(input(\"enter the age\"))\n",
    "if age>18:\n",
    "    print(\"Adult\")\n",
    "elif age==18:\n",
    "    print(\"Teenager\")\n",
    "elif age<18:\n",
    "    print(\"Child\")"
   ]
  },
  {
   "cell_type": "code",
   "execution_count": 2,
   "id": "9b77719c",
   "metadata": {},
   "outputs": [
    {
     "name": "stdout",
     "output_type": "stream",
     "text": [
      "enter the digit22\n",
      "even number\n"
     ]
    }
   ],
   "source": [
    "a=int(input(\"enter the digit\"))\n",
    "if a%2==0:\n",
    "    print(\"even number\")\n",
    "else:\n",
    "    print(\"odd number\")"
   ]
  },
  {
   "cell_type": "code",
   "execution_count": 10,
   "id": "2edddc4a",
   "metadata": {},
   "outputs": [
    {
     "name": "stdout",
     "output_type": "stream",
     "text": [
      "enter the number+1\n",
      "Positive\n"
     ]
    }
   ],
   "source": [
    "a=int(input(\"enter the number\"))\n",
    "if a>0:\n",
    "    print(\"Positive\")\n",
    "elif a==0:\n",
    "    print(\"Zero\")\n",
    "elif a<0:\n",
    "    print(\"Negative\")"
   ]
  },
  {
   "cell_type": "code",
   "execution_count": 21,
   "id": "b3e33a38",
   "metadata": {},
   "outputs": [
    {
     "name": "stdout",
     "output_type": "stream",
     "text": [
      "enter the salary10000\n",
      "enter the leaves6\n",
      "9700.0\n"
     ]
    }
   ],
   "source": [
    "salary=int(input(\"enter the salary\"))\n",
    "leaves=int(input(\"enter the leaves\"))\n",
    "if leaves>5:\n",
    "    ded=(salary*3)/100\n",
    "    act_sal_ded=salary-ded\n",
    "    print(act_sal_ded)\n",
    "else:\n",
    "    bon=(salary*5)/100\n",
    "    act_sal_bon= salary+bon\n",
    "    print(act_sal_bon)"
   ]
  },
  {
   "cell_type": "code",
   "execution_count": 24,
   "id": "21ecb069",
   "metadata": {},
   "outputs": [
    {
     "name": "stdout",
     "output_type": "stream",
     "text": [
      "0\n",
      "1\n",
      "2\n",
      "3\n",
      "4\n",
      "5\n",
      "6\n",
      "7\n",
      "8\n",
      "9\n"
     ]
    }
   ],
   "source": [
    "for i in range(10):\n",
    "    print(i)"
   ]
  },
  {
   "cell_type": "code",
   "execution_count": 25,
   "id": "a08f53fc",
   "metadata": {},
   "outputs": [
    {
     "name": "stdout",
     "output_type": "stream",
     "text": [
      "0\n",
      "1\n",
      "2\n",
      "3\n",
      "4\n",
      "5\n",
      "6\n",
      "7\n",
      "8\n",
      "9\n",
      "10\n",
      "11\n",
      "12\n",
      "13\n",
      "14\n",
      "15\n",
      "16\n",
      "17\n",
      "18\n",
      "19\n",
      "20\n",
      "21\n",
      "22\n",
      "23\n",
      "24\n",
      "25\n",
      "26\n",
      "27\n",
      "28\n",
      "29\n",
      "30\n",
      "31\n",
      "32\n",
      "33\n",
      "34\n",
      "35\n",
      "36\n",
      "37\n",
      "38\n",
      "39\n",
      "40\n",
      "41\n",
      "42\n",
      "43\n",
      "44\n",
      "45\n",
      "46\n",
      "47\n",
      "48\n",
      "49\n",
      "50\n"
     ]
    }
   ],
   "source": [
    "for i in range(51):\n",
    "        print(i)"
   ]
  },
  {
   "cell_type": "code",
   "execution_count": 26,
   "id": "2993ad97",
   "metadata": {},
   "outputs": [
    {
     "name": "stdout",
     "output_type": "stream",
     "text": [
      "1\n",
      "2\n",
      "3\n",
      "4\n",
      "5\n",
      "6\n",
      "7\n",
      "8\n",
      "9\n",
      "10\n",
      "11\n",
      "12\n",
      "13\n",
      "14\n",
      "15\n",
      "16\n",
      "17\n",
      "18\n",
      "19\n",
      "20\n",
      "21\n",
      "22\n",
      "23\n",
      "24\n",
      "25\n",
      "26\n",
      "27\n",
      "28\n",
      "29\n",
      "30\n",
      "31\n",
      "32\n",
      "33\n",
      "34\n",
      "35\n",
      "36\n",
      "37\n",
      "38\n",
      "39\n",
      "40\n",
      "41\n",
      "42\n",
      "43\n",
      "44\n",
      "45\n",
      "46\n",
      "47\n",
      "48\n",
      "49\n",
      "50\n"
     ]
    }
   ],
   "source": [
    "for i in range(1,51):\n",
    "    print(i)"
   ]
  },
  {
   "cell_type": "code",
   "execution_count": 27,
   "id": "2770d2a8",
   "metadata": {},
   "outputs": [
    {
     "name": "stdout",
     "output_type": "stream",
     "text": [
      "10\n",
      "12\n",
      "14\n",
      "16\n",
      "18\n",
      "20\n",
      "22\n",
      "24\n",
      "26\n",
      "28\n",
      "30\n"
     ]
    }
   ],
   "source": [
    "for i in range(10,31,2):\n",
    "    print(i)"
   ]
  },
  {
   "cell_type": "code",
   "execution_count": 31,
   "id": "940b0dff",
   "metadata": {},
   "outputs": [
    {
     "name": "stdout",
     "output_type": "stream",
     "text": [
      "30\n",
      "28\n",
      "26\n",
      "24\n",
      "22\n",
      "20\n",
      "18\n",
      "16\n",
      "14\n",
      "12\n",
      "10\n"
     ]
    }
   ],
   "source": [
    "for i in range(30,9,-2):\n",
    "    print(i)"
   ]
  },
  {
   "cell_type": "code",
   "execution_count": 32,
   "id": "fc86e8a3",
   "metadata": {},
   "outputs": [
    {
     "name": "stdout",
     "output_type": "stream",
     "text": [
      "-10\n",
      "-9\n",
      "-8\n",
      "-7\n",
      "-6\n",
      "-5\n",
      "-4\n",
      "-3\n",
      "-2\n",
      "-1\n",
      "0\n",
      "1\n",
      "2\n",
      "3\n",
      "4\n",
      "5\n",
      "6\n",
      "7\n",
      "8\n",
      "9\n",
      "10\n"
     ]
    }
   ],
   "source": [
    "for i in range(-10,11):\n",
    "    print(i)"
   ]
  },
  {
   "cell_type": "code",
   "execution_count": 33,
   "id": "2ea81c71",
   "metadata": {},
   "outputs": [
    {
     "name": "stdout",
     "output_type": "stream",
     "text": [
      "5\n",
      "10\n",
      "15\n",
      "20\n",
      "25\n",
      "30\n",
      "35\n",
      "40\n",
      "45\n",
      "50\n"
     ]
    }
   ],
   "source": [
    "for i in range(5,51,5):\n",
    "    print(i)"
   ]
  },
  {
   "cell_type": "code",
   "execution_count": 34,
   "id": "1e019169",
   "metadata": {},
   "outputs": [
    {
     "name": "stdout",
     "output_type": "stream",
     "text": [
      "12\n",
      "24\n",
      "36\n",
      "48\n",
      "60\n",
      "72\n",
      "84\n",
      "96\n",
      "108\n",
      "120\n"
     ]
    }
   ],
   "source": [
    "for i in range(12,121,12):\n",
    "    print(i)"
   ]
  },
  {
   "cell_type": "code",
   "execution_count": 35,
   "id": "108af369",
   "metadata": {},
   "outputs": [
    {
     "name": "stdout",
     "output_type": "stream",
     "text": [
      "30\n",
      "32\n",
      "34\n",
      "36\n",
      "38\n",
      "40\n",
      "42\n",
      "44\n",
      "46\n",
      "48\n",
      "50\n",
      "52\n",
      "54\n",
      "56\n",
      "58\n",
      "60\n",
      "62\n",
      "64\n",
      "66\n",
      "68\n",
      "70\n"
     ]
    }
   ],
   "source": [
    "for i in range(30,71):\n",
    "    if i%2==0:\n",
    "        print(i)"
   ]
  },
  {
   "cell_type": "code",
   "execution_count": 39,
   "id": "fb3174ad",
   "metadata": {},
   "outputs": [
    {
     "name": "stdout",
     "output_type": "stream",
     "text": [
      "30\n",
      "-1\n",
      "-1\n",
      "-1\n",
      "-1\n",
      "-1\n",
      "-1\n",
      "-1\n",
      "-1\n",
      "-1\n",
      "40\n",
      "-1\n",
      "-1\n",
      "-1\n",
      "-1\n",
      "-1\n",
      "-1\n",
      "-1\n",
      "-1\n",
      "-1\n",
      "50\n",
      "-1\n",
      "-1\n",
      "-1\n",
      "-1\n",
      "-1\n",
      "-1\n",
      "-1\n",
      "-1\n",
      "-1\n",
      "60\n",
      "-1\n",
      "-1\n",
      "-1\n",
      "-1\n",
      "-1\n",
      "-1\n",
      "-1\n",
      "-1\n",
      "-1\n",
      "70\n"
     ]
    }
   ],
   "source": [
    "for i in range(30,71):\n",
    "    if i%2==0 and i%5==0:\n",
    "            print(i)\n",
    "    else:\n",
    "            print(\"-1\")"
   ]
  },
  {
   "cell_type": "code",
   "execution_count": 6,
   "id": "cb074c0b",
   "metadata": {},
   "outputs": [
    {
     "name": "stdout",
     "output_type": "stream",
     "text": [
      "enter the number10\n",
      "not divisble\n"
     ]
    }
   ],
   "source": [
    "a=int(input(\"enter the number\"))\n",
    "if a%3==0 and a%6==0 and a%5!=0:\n",
    "    print(\"divisble\")\n",
    "else:\n",
    "    print(\"not divisble\")"
   ]
  },
  {
   "cell_type": "code",
   "execution_count": 3,
   "id": "e82b9ec2",
   "metadata": {},
   "outputs": [
    {
     "name": "stdout",
     "output_type": "stream",
     "text": [
      "enter the digit15\n",
      "not divisble\n"
     ]
    }
   ],
   "source": [
    "a=int(input(\"enter the digit\"))\n",
    "if a%3==0 and a%6==0 and a%5!=0:\n",
    "    print(\"divisble\")\n",
    "else:\n",
    "        print(\"not divisble\")"
   ]
  },
  {
   "cell_type": "code",
   "execution_count": 7,
   "id": "ed557a8a",
   "metadata": {},
   "outputs": [
    {
     "name": "stdout",
     "output_type": "stream",
     "text": [
      "enter the first digit5\n",
      "enter the second digit5\n",
      "No Greatest value found\n"
     ]
    }
   ],
   "source": [
    "a=int(input(\"enter the first digit\"))\n",
    "b=int(input(\"enter the second digit\"))\n",
    "if a>b:\n",
    "    print(a)\n",
    "elif a==b:\n",
    "    print(\"No Greatest value found\")\n",
    "else:\n",
    "    print(b)"
   ]
  },
  {
   "cell_type": "code",
   "execution_count": 10,
   "id": "25ef6e8b",
   "metadata": {},
   "outputs": [
    {
     "name": "stdout",
     "output_type": "stream",
     "text": [
      "enter the first subject's marks1\n",
      "enter the second subject's marks2\n",
      "enter the third subject's marks3\n",
      "enter the fourth subject's marks4\n",
      "2.5\n"
     ]
    }
   ],
   "source": [
    "a=int(input(\"enter the first subject's marks\"))\n",
    "b=int(input(\"enter the second subject's marks\"))\n",
    "c=int(input(\"enter the third subject's marks\"))\n",
    "d=int(input(\"enter the fourth subject's marks\"))\n",
    "avg=(a+b+c+d)/4\n",
    "print(avg)"
   ]
  },
  {
   "cell_type": "code",
   "execution_count": 11,
   "id": "1084f069",
   "metadata": {},
   "outputs": [
    {
     "name": "stdout",
     "output_type": "stream",
     "text": [
      "enter the number1\n",
      "enter the number3\n",
      "enter the number2\n",
      "3\n"
     ]
    }
   ],
   "source": [
    "a=int(input(\"enter the number\"))\n",
    "b=int(input(\"enter the number\"))\n",
    "c=int(input(\"enter the number\"))\n",
    "if a>b and a>c:\n",
    "    print(a)\n",
    "elif b>c and b>a:\n",
    "    print(b)\n",
    "elif c>a and c>b:\n",
    "        print(c)"
   ]
  },
  {
   "cell_type": "code",
   "execution_count": 35,
   "id": "3ac36ee5",
   "metadata": {},
   "outputs": [
    {
     "name": "stdout",
     "output_type": "stream",
     "text": [
      "enter the number1\n",
      "enter the number101\n",
      "odd number-> 1\n",
      "even number-> 2\n",
      "odd number-> 3\n",
      "even number-> 4\n",
      "odd number-> 5\n",
      "even number-> 6\n",
      "odd number-> 7\n",
      "even number-> 8\n",
      "odd number-> 9\n",
      "even number-> 10\n",
      "odd number-> 11\n",
      "even number-> 12\n",
      "odd number-> 13\n",
      "even number-> 14\n",
      "odd number-> 15\n",
      "even number-> 16\n",
      "odd number-> 17\n",
      "even number-> 18\n",
      "odd number-> 19\n",
      "even number-> 20\n",
      "odd number-> 21\n",
      "even number-> 22\n",
      "odd number-> 23\n",
      "even number-> 24\n",
      "odd number-> 25\n",
      "even number-> 26\n",
      "odd number-> 27\n",
      "even number-> 28\n",
      "odd number-> 29\n",
      "even number-> 30\n",
      "odd number-> 31\n",
      "even number-> 32\n",
      "odd number-> 33\n",
      "even number-> 34\n",
      "odd number-> 35\n",
      "even number-> 36\n",
      "odd number-> 37\n",
      "even number-> 38\n",
      "odd number-> 39\n",
      "even number-> 40\n",
      "odd number-> 41\n",
      "even number-> 42\n",
      "odd number-> 43\n",
      "even number-> 44\n",
      "odd number-> 45\n",
      "even number-> 46\n",
      "odd number-> 47\n",
      "even number-> 48\n",
      "odd number-> 49\n",
      "even number-> 50\n",
      "odd number-> 51\n",
      "even number-> 52\n",
      "odd number-> 53\n",
      "even number-> 54\n",
      "odd number-> 55\n",
      "even number-> 56\n",
      "odd number-> 57\n",
      "even number-> 58\n",
      "odd number-> 59\n",
      "even number-> 60\n",
      "odd number-> 61\n",
      "even number-> 62\n",
      "odd number-> 63\n",
      "even number-> 64\n",
      "odd number-> 65\n",
      "even number-> 66\n",
      "odd number-> 67\n",
      "even number-> 68\n",
      "odd number-> 69\n",
      "even number-> 70\n",
      "odd number-> 71\n",
      "even number-> 72\n",
      "odd number-> 73\n",
      "even number-> 74\n",
      "odd number-> 75\n",
      "even number-> 76\n",
      "odd number-> 77\n",
      "even number-> 78\n",
      "odd number-> 79\n",
      "even number-> 80\n",
      "odd number-> 81\n",
      "even number-> 82\n",
      "odd number-> 83\n",
      "even number-> 84\n",
      "odd number-> 85\n",
      "even number-> 86\n",
      "odd number-> 87\n",
      "even number-> 88\n",
      "odd number-> 89\n",
      "even number-> 90\n",
      "odd number-> 91\n",
      "even number-> 92\n",
      "odd number-> 93\n",
      "even number-> 94\n",
      "odd number-> 95\n",
      "even number-> 96\n",
      "odd number-> 97\n",
      "even number-> 98\n",
      "odd number-> 99\n",
      "even number-> 100\n"
     ]
    }
   ],
   "source": [
    "a=int(input(\"enter the number\"))\n",
    "b=int(input(\"enter the number\"))\n",
    "for i in range(a,b):\n",
    "    if i%2==0:\n",
    "        print(\"even number->\",i )\n",
    "    else:\n",
    "            print(\"odd number->\", i)"
   ]
  },
  {
   "cell_type": "code",
   "execution_count": 38,
   "id": "edc02091",
   "metadata": {},
   "outputs": [
    {
     "name": "stdout",
     "output_type": "stream",
     "text": [
      "enter the number1\n",
      "enter the number101\n",
      "1\n",
      "2\n",
      "3\n",
      "4\n",
      "5\n",
      "6\n",
      "7\n",
      "8\n",
      "9\n",
      "10\n",
      "11\n",
      "12\n",
      "13\n",
      "14\n",
      "15\n",
      "16\n",
      "17\n",
      "18\n",
      "19\n",
      "20\n",
      "21\n",
      "22\n",
      "23\n",
      "24\n",
      "25\n",
      "26\n",
      "27\n",
      "28\n",
      "29\n",
      "30\n",
      "31\n",
      "32\n",
      "33\n",
      "34\n",
      "35\n",
      "36\n",
      "37\n",
      "38\n",
      "39\n",
      "40\n",
      "41\n",
      "42\n",
      "43\n",
      "44\n",
      "45\n",
      "46\n",
      "47\n",
      "48\n",
      "49\n",
      "50\n",
      "51\n",
      "52\n",
      "53\n",
      "54\n",
      "55\n",
      "56\n",
      "57\n",
      "58\n",
      "59\n",
      "60\n",
      "61\n",
      "62\n",
      "63\n",
      "64\n",
      "65\n",
      "66\n",
      "67\n",
      "68\n",
      "69\n",
      "70\n",
      "71\n",
      "72\n",
      "73\n",
      "74\n",
      "75\n",
      "76\n",
      "77\n",
      "78\n",
      "79\n",
      "80\n",
      "81\n",
      "82\n",
      "83\n",
      "84\n",
      "85\n",
      "86\n",
      "87\n",
      "88\n",
      "89\n",
      "90\n",
      "91\n",
      "92\n",
      "93\n",
      "94\n",
      "95\n",
      "96\n",
      "97\n",
      "98\n",
      "99\n",
      "100\n"
     ]
    }
   ],
   "source": [
    "a=int(input(\"enter the number\"))\n",
    "b=int(input(\"enter the number\"))\n",
    "x=a\n",
    "while x<b:\n",
    "    print(x)\n",
    "    x=x+1"
   ]
  },
  {
   "cell_type": "code",
   "execution_count": 39,
   "id": "9c5c4c48",
   "metadata": {},
   "outputs": [
    {
     "name": "stdout",
     "output_type": "stream",
     "text": [
      "-1\n",
      "0\n",
      "1\n",
      "2\n",
      "3\n",
      "4\n",
      "5\n",
      "6\n",
      "7\n",
      "8\n",
      "9\n",
      "10\n"
     ]
    }
   ],
   "source": [
    "x=-1\n",
    "while x<=10:\n",
    "    print(x)\n",
    "    x=x+1"
   ]
  },
  {
   "cell_type": "code",
   "execution_count": 42,
   "id": "157c94f9",
   "metadata": {},
   "outputs": [
    {
     "name": "stdout",
     "output_type": "stream",
     "text": [
      "-1\n",
      "-2\n",
      "-3\n",
      "-4\n",
      "-5\n",
      "-6\n",
      "-7\n",
      "-8\n",
      "-9\n",
      "-10\n"
     ]
    }
   ],
   "source": [
    "x=-1\n",
    "while x>=-10:\n",
    "    print(x)\n",
    "    x=x-1\n",
    "    "
   ]
  },
  {
   "cell_type": "code",
   "execution_count": null,
   "id": "746c21aa",
   "metadata": {},
   "outputs": [],
   "source": [
    "#a=int(input(\"enter the number\"))\n",
    "#b=int(input(\"enter the number\"))\n",
    "x=1\n",
    "    while x>=101:\n",
    "        if x%2==0:\n",
    "            print(\"even number->\",x)\n",
    "        else:\n",
    "            print(\"odd number->\",x)\n",
    "\n",
    "            x=x+1"
   ]
  },
  {
   "cell_type": "code",
   "execution_count": 11,
   "id": "714c1e33",
   "metadata": {},
   "outputs": [],
   "source": [
    "x=1\n",
    "while x>=50:\n",
    "        if x%2==0:\n",
    "            print(\"even\")\n",
    "        else:\n",
    "            print(\"odd\")\n",
    "        x=x+1"
   ]
  },
  {
   "cell_type": "code",
   "execution_count": 13,
   "id": "fed6ef12",
   "metadata": {},
   "outputs": [],
   "source": [
    "x=[1,2,3,4]\n",
    "y=tuple(x)"
   ]
  },
  {
   "cell_type": "code",
   "execution_count": 14,
   "id": "f411d938",
   "metadata": {},
   "outputs": [
    {
     "name": "stdout",
     "output_type": "stream",
     "text": [
      "(1, 2, 3, 4)\n"
     ]
    }
   ],
   "source": [
    "print(y)"
   ]
  },
  {
   "cell_type": "code",
   "execution_count": 16,
   "id": "9fbe54d8",
   "metadata": {},
   "outputs": [],
   "source": [
    "x.append(7)"
   ]
  },
  {
   "cell_type": "code",
   "execution_count": 17,
   "id": "69cdcc47",
   "metadata": {},
   "outputs": [
    {
     "name": "stdout",
     "output_type": "stream",
     "text": [
      "[1, 2, 3, 4, 7]\n"
     ]
    }
   ],
   "source": [
    "print(x)"
   ]
  },
  {
   "cell_type": "code",
   "execution_count": 19,
   "id": "5a41719b",
   "metadata": {},
   "outputs": [],
   "source": [
    "x.remove(7)"
   ]
  },
  {
   "cell_type": "code",
   "execution_count": 20,
   "id": "632feb24",
   "metadata": {},
   "outputs": [
    {
     "name": "stdout",
     "output_type": "stream",
     "text": [
      "[1, 2, 3, 4]\n"
     ]
    }
   ],
   "source": [
    "print(x)"
   ]
  },
  {
   "cell_type": "code",
   "execution_count": 21,
   "id": "79c113f2",
   "metadata": {},
   "outputs": [
    {
     "name": "stdout",
     "output_type": "stream",
     "text": [
      "enter the number4\n",
      "not divisible 34\n",
      "not divisible 78\n",
      "not divisible 90\n",
      "not divisible 67\n",
      "not divisible 41\n",
      "not divisible 85\n",
      "divisible 92\n"
     ]
    }
   ],
   "source": [
    "a=[(34,78,90,67,41,85,92)]\n",
    "num=int(input(\"enter the number\"))\n",
    "for i in a:\n",
    "    for j in i:\n",
    "        if j%num==0:\n",
    "            print(\"divisible\",j)\n",
    "        else:\n",
    "            print(\"not divisible\",j)"
   ]
  },
  {
   "cell_type": "code",
   "execution_count": 22,
   "id": "055de78c",
   "metadata": {},
   "outputs": [],
   "source": [
    "x=(1,1,3,5,5,7,8,8)\n",
    "y=[]\n",
    "for i in x:\n",
    "    if x not in y:\n",
    "        y.append(i)"
   ]
  },
  {
   "cell_type": "code",
   "execution_count": 25,
   "id": "8d050fd0",
   "metadata": {},
   "outputs": [
    {
     "name": "stdout",
     "output_type": "stream",
     "text": [
      "(1, 1, 3, 5, 5, 7, 8, 8)\n"
     ]
    }
   ],
   "source": [
    "res=tuple(y)\n",
    "print(res)"
   ]
  },
  {
   "cell_type": "code",
   "execution_count": 6,
   "id": "516ad1f4",
   "metadata": {},
   "outputs": [
    {
     "ename": "SyntaxError",
     "evalue": "invalid syntax (3226335186.py, line 4)",
     "output_type": "error",
     "traceback": [
      "\u001b[1;36m  Input \u001b[1;32mIn [6]\u001b[1;36m\u001b[0m\n\u001b[1;33m    x++\u001b[0m\n\u001b[1;37m       ^\u001b[0m\n\u001b[1;31mSyntaxError\u001b[0m\u001b[1;31m:\u001b[0m invalid syntax\n"
     ]
    }
   ],
   "source": [
    "x=1\n",
    "while x<=10:\n",
    "    print(x)\n",
    "    x++"
   ]
  },
  {
   "cell_type": "code",
   "execution_count": 1,
   "id": "002296a8",
   "metadata": {},
   "outputs": [
    {
     "name": "stdout",
     "output_type": "stream",
     "text": [
      "-18\n",
      "-17\n",
      "-16\n",
      "-15\n",
      "-14\n",
      "-13\n",
      "-12\n",
      "-11\n",
      "-10\n",
      "-9\n",
      "-8\n",
      "-7\n",
      "-6\n",
      "-5\n",
      "-4\n",
      "-3\n",
      "-2\n",
      "-1\n",
      "0\n",
      "1\n",
      "2\n",
      "3\n",
      "4\n",
      "5\n",
      "6\n",
      "7\n",
      "8\n",
      "9\n",
      "10\n",
      "11\n",
      "12\n",
      "13\n",
      "14\n",
      "15\n",
      "16\n",
      "17\n"
     ]
    }
   ],
   "source": [
    "x=-18\n",
    "while x<18:\n",
    "    print(x)\n",
    "    x+=1"
   ]
  },
  {
   "cell_type": "code",
   "execution_count": 4,
   "id": "b11433dc",
   "metadata": {},
   "outputs": [
    {
     "name": "stdout",
     "output_type": "stream",
     "text": [
      "-18\n",
      "-17\n",
      "-16\n",
      "-15\n",
      "-14\n",
      "-13\n",
      "-12\n",
      "-11\n",
      "-10\n",
      "-9\n",
      "-8\n",
      "-7\n",
      "-6\n",
      "-5\n",
      "-4\n",
      "-3\n",
      "-2\n",
      "-1\n",
      "0\n",
      "1\n",
      "2\n",
      "3\n",
      "4\n",
      "5\n",
      "6\n",
      "7\n",
      "8\n",
      "9\n",
      "10\n",
      "11\n",
      "12\n",
      "13\n",
      "14\n",
      "15\n",
      "16\n",
      "17\n"
     ]
    }
   ],
   "source": [
    "for i in range(-18,18):\n",
    "    print(i)"
   ]
  },
  {
   "cell_type": "code",
   "execution_count": 5,
   "id": "4b8e85ef",
   "metadata": {},
   "outputs": [
    {
     "name": "stdout",
     "output_type": "stream",
     "text": [
      "-18\n",
      "-17\n",
      "-16\n",
      "-15\n",
      "-14\n",
      "-13\n",
      "-12\n",
      "-11\n",
      "-10\n",
      "-9\n",
      "-8\n",
      "-7\n",
      "-6\n",
      "-5\n",
      "-4\n",
      "-3\n",
      "-2\n",
      "-1\n",
      "0\n",
      "1\n",
      "2\n",
      "3\n",
      "4\n",
      "5\n",
      "6\n",
      "7\n",
      "8\n",
      "9\n",
      "10\n",
      "11\n",
      "12\n",
      "13\n",
      "14\n",
      "15\n",
      "16\n",
      "17\n"
     ]
    }
   ],
   "source": [
    "x=-18\n",
    "while x<18:\n",
    "    print(x)\n",
    "    x=x+1"
   ]
  },
  {
   "cell_type": "code",
   "execution_count": 2,
   "id": "f1d14ba7",
   "metadata": {},
   "outputs": [
    {
     "name": "stdout",
     "output_type": "stream",
     "text": [
      "enter the number22\n",
      "even\n"
     ]
    }
   ],
   "source": [
    "a=int(input(\"enter the number\"))\n",
    "if a%2==0:\n",
    "    print(\"even\")\n",
    "else:\n",
    "    print(\"odd\")"
   ]
  },
  {
   "cell_type": "code",
   "execution_count": 7,
   "id": "fcdc6956",
   "metadata": {},
   "outputs": [
    {
     "name": "stdout",
     "output_type": "stream",
     "text": [
      "enter the number0\n",
      "equal to zero\n"
     ]
    }
   ],
   "source": [
    "a=int(input(\"enter the number\"))\n",
    "if a>0:\n",
    "    print(\"positive\")\n",
    "elif a==0:\n",
    "    print(\"equal to zero\")\n",
    "else:\n",
    "    print(\"negative\")"
   ]
  },
  {
   "cell_type": "code",
   "execution_count": 8,
   "id": "25e2c1f5",
   "metadata": {},
   "outputs": [
    {
     "name": "stdout",
     "output_type": "stream",
     "text": [
      "0\n",
      "1\n",
      "2\n",
      "3\n",
      "4\n",
      "5\n",
      "6\n",
      "7\n",
      "8\n",
      "9\n",
      "10\n"
     ]
    }
   ],
   "source": [
    "for i in range(11):\n",
    "    print(i)"
   ]
  },
  {
   "cell_type": "code",
   "execution_count": 12,
   "id": "1ffe0e57",
   "metadata": {},
   "outputs": [
    {
     "name": "stdout",
     "output_type": "stream",
     "text": [
      "5\n",
      "10\n",
      "15\n",
      "20\n",
      "25\n",
      "30\n",
      "35\n",
      "40\n",
      "45\n",
      "50\n"
     ]
    }
   ],
   "source": [
    "for i in range(5,54,5):\n",
    "    print(i)"
   ]
  },
  {
   "cell_type": "code",
   "execution_count": 14,
   "id": "7698ba44",
   "metadata": {},
   "outputs": [
    {
     "name": "stdout",
     "output_type": "stream",
     "text": [
      "-10\n",
      "-9\n",
      "-8\n",
      "-7\n",
      "-6\n",
      "-5\n",
      "-4\n",
      "-3\n",
      "-2\n",
      "-1\n",
      "0\n",
      "1\n",
      "2\n",
      "3\n",
      "4\n",
      "5\n",
      "6\n",
      "7\n",
      "8\n",
      "9\n",
      "10\n"
     ]
    }
   ],
   "source": [
    "for i in range(-10,11):\n",
    "    print(i)"
   ]
  },
  {
   "cell_type": "code",
   "execution_count": 17,
   "id": "97151789",
   "metadata": {},
   "outputs": [
    {
     "name": "stdout",
     "output_type": "stream",
     "text": [
      "10\n",
      "9\n",
      "8\n",
      "7\n",
      "6\n",
      "5\n",
      "4\n",
      "3\n",
      "2\n",
      "1\n",
      "0\n",
      "-1\n",
      "-2\n",
      "-3\n",
      "-4\n",
      "-5\n",
      "-6\n",
      "-7\n",
      "-8\n",
      "-9\n",
      "-10\n"
     ]
    }
   ],
   "source": [
    "for i in range(10,-11,-1):\n",
    "    print(i)"
   ]
  },
  {
   "cell_type": "code",
   "execution_count": 24,
   "id": "b4b0b5cc",
   "metadata": {},
   "outputs": [
    {
     "name": "stdout",
     "output_type": "stream",
     "text": [
      "30\n",
      "32\n",
      "34\n",
      "36\n",
      "38\n",
      "40\n",
      "42\n",
      "44\n",
      "46\n",
      "48\n",
      "50\n",
      "52\n",
      "54\n",
      "56\n",
      "58\n",
      "60\n",
      "62\n",
      "64\n",
      "66\n",
      "68\n",
      "70\n"
     ]
    }
   ],
   "source": [
    "for i in range(30,71):\n",
    "    if i%2==0:\n",
    "        print(i)"
   ]
  },
  {
   "cell_type": "code",
   "execution_count": 26,
   "id": "fa5b1bc6",
   "metadata": {},
   "outputs": [
    {
     "name": "stdout",
     "output_type": "stream",
     "text": [
      "30\n",
      "-1\n",
      "-1\n",
      "-1\n",
      "-1\n",
      "-1\n",
      "-1\n",
      "-1\n",
      "-1\n",
      "-1\n",
      "40\n",
      "-1\n",
      "-1\n",
      "-1\n",
      "-1\n",
      "-1\n",
      "-1\n",
      "-1\n",
      "-1\n",
      "-1\n",
      "50\n",
      "-1\n",
      "-1\n",
      "-1\n",
      "-1\n",
      "-1\n",
      "-1\n",
      "-1\n",
      "-1\n",
      "-1\n",
      "60\n",
      "-1\n",
      "-1\n",
      "-1\n",
      "-1\n",
      "-1\n",
      "-1\n",
      "-1\n",
      "-1\n",
      "-1\n",
      "70\n"
     ]
    }
   ],
   "source": [
    "for i in range(30,71):\n",
    "    if i%2==0 and i%5==0:\n",
    "        print(i)\n",
    "    else:\n",
    "        print(\"-1\")"
   ]
  },
  {
   "cell_type": "code",
   "execution_count": 27,
   "id": "6b7b2004",
   "metadata": {},
   "outputs": [
    {
     "name": "stdout",
     "output_type": "stream",
     "text": [
      "0\n",
      "1\n",
      "2\n",
      "3\n",
      "4\n",
      "5\n",
      "6\n",
      "7\n",
      "8\n",
      "9\n",
      "10\n"
     ]
    }
   ],
   "source": [
    "x=0\n",
    "while x<=10:\n",
    "    print(x)\n",
    "    x=x+1"
   ]
  },
  {
   "cell_type": "code",
   "execution_count": 1,
   "id": "e3f7849a",
   "metadata": {},
   "outputs": [
    {
     "name": "stdout",
     "output_type": "stream",
     "text": [
      "odd 1\n",
      "even 2\n",
      "odd 3\n",
      "even 4\n",
      "odd 5\n",
      "even 6\n",
      "odd 7\n",
      "even 8\n",
      "odd 9\n",
      "even 10\n",
      "odd 11\n",
      "even 12\n",
      "odd 13\n",
      "even 14\n",
      "odd 15\n",
      "even 16\n",
      "odd 17\n",
      "even 18\n",
      "odd 19\n",
      "even 20\n",
      "odd 21\n",
      "even 22\n",
      "odd 23\n",
      "even 24\n",
      "odd 25\n",
      "even 26\n",
      "odd 27\n",
      "even 28\n",
      "odd 29\n",
      "even 30\n",
      "odd 31\n",
      "even 32\n",
      "odd 33\n",
      "even 34\n",
      "odd 35\n",
      "even 36\n",
      "odd 37\n",
      "even 38\n",
      "odd 39\n",
      "even 40\n",
      "odd 41\n",
      "even 42\n",
      "odd 43\n",
      "even 44\n",
      "odd 45\n",
      "even 46\n",
      "odd 47\n",
      "even 48\n",
      "odd 49\n",
      "even 50\n"
     ]
    }
   ],
   "source": [
    "x=1\n",
    "while x<=50:\n",
    "    if x%2==0:\n",
    "        print(\"even\",x)\n",
    "    else:\n",
    "        print(\"odd\",x)\n",
    "    x+=1"
   ]
  },
  {
   "cell_type": "code",
   "execution_count": 2,
   "id": "0fa3a606",
   "metadata": {},
   "outputs": [
    {
     "name": "stdout",
     "output_type": "stream",
     "text": [
      "[1, 2, 3]\n"
     ]
    }
   ],
   "source": [
    "x=[1,2,3]\n",
    "print(x)"
   ]
  },
  {
   "cell_type": "code",
   "execution_count": 3,
   "id": "2661d07e",
   "metadata": {},
   "outputs": [
    {
     "data": {
      "text/plain": [
       "list"
      ]
     },
     "execution_count": 3,
     "metadata": {},
     "output_type": "execute_result"
    }
   ],
   "source": [
    "type(x)"
   ]
  },
  {
   "cell_type": "code",
   "execution_count": 4,
   "id": "b26dd8bd",
   "metadata": {},
   "outputs": [
    {
     "data": {
      "text/plain": [
       "2"
      ]
     },
     "execution_count": 4,
     "metadata": {},
     "output_type": "execute_result"
    }
   ],
   "source": [
    "x[1]"
   ]
  },
  {
   "cell_type": "code",
   "execution_count": 7,
   "id": "410c93da",
   "metadata": {},
   "outputs": [
    {
     "data": {
      "text/plain": [
       "1"
      ]
     },
     "execution_count": 7,
     "metadata": {},
     "output_type": "execute_result"
    }
   ],
   "source": [
    "x[0]"
   ]
  },
  {
   "cell_type": "code",
   "execution_count": 8,
   "id": "3701206c",
   "metadata": {},
   "outputs": [
    {
     "name": "stdout",
     "output_type": "stream",
     "text": [
      "[1, 2, 3]\n"
     ]
    }
   ],
   "source": [
    "print(x)"
   ]
  },
  {
   "cell_type": "code",
   "execution_count": 9,
   "id": "d452c0b6",
   "metadata": {},
   "outputs": [],
   "source": [
    "x[0]=12"
   ]
  },
  {
   "cell_type": "code",
   "execution_count": 10,
   "id": "aeeb7251",
   "metadata": {},
   "outputs": [
    {
     "name": "stdout",
     "output_type": "stream",
     "text": [
      "[12, 2, 3]\n"
     ]
    }
   ],
   "source": [
    "print(x)"
   ]
  },
  {
   "cell_type": "code",
   "execution_count": 11,
   "id": "62a90fdd",
   "metadata": {},
   "outputs": [],
   "source": [
    "x.append(4)"
   ]
  },
  {
   "cell_type": "code",
   "execution_count": 12,
   "id": "4ec21096",
   "metadata": {},
   "outputs": [
    {
     "name": "stdout",
     "output_type": "stream",
     "text": [
      "[12, 2, 3, 4]\n"
     ]
    }
   ],
   "source": [
    "print(x)"
   ]
  },
  {
   "cell_type": "code",
   "execution_count": 15,
   "id": "4086f20f",
   "metadata": {},
   "outputs": [
    {
     "name": "stdout",
     "output_type": "stream",
     "text": [
      "(3, 4, 5)\n"
     ]
    }
   ],
   "source": [
    "x=(3,4,5)\n",
    "print(x)"
   ]
  },
  {
   "cell_type": "code",
   "execution_count": 16,
   "id": "d85adfbb",
   "metadata": {},
   "outputs": [
    {
     "data": {
      "text/plain": [
       "tuple"
      ]
     },
     "execution_count": 16,
     "metadata": {},
     "output_type": "execute_result"
    }
   ],
   "source": [
    "type(x)"
   ]
  },
  {
   "cell_type": "code",
   "execution_count": 17,
   "id": "e3dc7667",
   "metadata": {},
   "outputs": [
    {
     "data": {
      "text/plain": [
       "5"
      ]
     },
     "execution_count": 17,
     "metadata": {},
     "output_type": "execute_result"
    }
   ],
   "source": [
    "x[2]"
   ]
  },
  {
   "cell_type": "code",
   "execution_count": 22,
   "id": "68bb09a4",
   "metadata": {},
   "outputs": [
    {
     "name": "stdout",
     "output_type": "stream",
     "text": [
      "(3, 4, 5)\n"
     ]
    }
   ],
   "source": [
    "print(x)"
   ]
  },
  {
   "cell_type": "code",
   "execution_count": 28,
   "id": "d02d5731",
   "metadata": {},
   "outputs": [
    {
     "name": "stdout",
     "output_type": "stream",
     "text": [
      "45 common\n"
     ]
    }
   ],
   "source": [
    "x=[34,45,67,89]\n",
    "y=[78,90,45,23]\n",
    "for i in x:\n",
    "    for j in y:\n",
    "        if i==j:\n",
    "            print(i,\"common\")\n",
    "       # else:\n",
    "        #    print(i,\"not common\")"
   ]
  },
  {
   "cell_type": "code",
   "execution_count": 30,
   "id": "7151747f",
   "metadata": {},
   "outputs": [],
   "source": [
    "x={\n",
    "    'name':'vihan',\n",
    "    'marks': 777,\n",
    "    'age': 24\n",
    "}"
   ]
  },
  {
   "cell_type": "code",
   "execution_count": 31,
   "id": "3d0e4d7f",
   "metadata": {},
   "outputs": [
    {
     "name": "stdout",
     "output_type": "stream",
     "text": [
      "{'name': 'vihan', 'marks': 777, 'age': 24}\n"
     ]
    }
   ],
   "source": [
    "print(x)"
   ]
  },
  {
   "cell_type": "code",
   "execution_count": 37,
   "id": "0b8dba41",
   "metadata": {},
   "outputs": [],
   "source": [
    "x.update({'age':45})"
   ]
  },
  {
   "cell_type": "code",
   "execution_count": 43,
   "id": "9f144594",
   "metadata": {},
   "outputs": [
    {
     "name": "stdout",
     "output_type": "stream",
     "text": [
      "{'name': 'vihan', 'marks': 777, 'age': 45}\n"
     ]
    }
   ],
   "source": [
    "print(x)"
   ]
  },
  {
   "cell_type": "code",
   "execution_count": 4,
   "id": "dbbb1553",
   "metadata": {},
   "outputs": [],
   "source": [
    "def add():\n",
    "    a=int(input(\"enter the 1st number\"))\n",
    "    b=int(input(\"enter the 2nd number\"))\n",
    "    c=a+b\n",
    "    print(c)"
   ]
  },
  {
   "cell_type": "code",
   "execution_count": 5,
   "id": "847c5874",
   "metadata": {},
   "outputs": [
    {
     "name": "stdout",
     "output_type": "stream",
     "text": [
      "enter the 1st number23\n",
      "enter the 2nd number2\n",
      "25\n"
     ]
    }
   ],
   "source": [
    "add()"
   ]
  },
  {
   "cell_type": "code",
   "execution_count": 8,
   "id": "d883c41d",
   "metadata": {},
   "outputs": [
    {
     "name": "stdout",
     "output_type": "stream",
     "text": [
      "nohtyp\n"
     ]
    }
   ],
   "source": [
    "a='python'\n",
    "b=''\n",
    "for i in a:\n",
    "    b=i+b\n",
    "print(b)"
   ]
  },
  {
   "cell_type": "code",
   "execution_count": 9,
   "id": "d1a839fe",
   "metadata": {},
   "outputs": [
    {
     "name": "stdout",
     "output_type": "stream",
     "text": [
      "nohtyp\n",
      "reversed\n"
     ]
    }
   ],
   "source": [
    "a='python'\n",
    "b=''\n",
    "for i in a:\n",
    "    b=i+b\n",
    "print(b)\n",
    "if a!=b:\n",
    "    print(\"reversed\")\n",
    "else:\n",
    "    print(\"not reversed\")"
   ]
  },
  {
   "cell_type": "code",
   "execution_count": 2,
   "id": "1c0bc4c3",
   "metadata": {},
   "outputs": [
    {
     "name": "stdout",
     "output_type": "stream",
     "text": [
      "[1, 3, 5, 2, 11, 7, 9, 45, 34, 456]\n"
     ]
    }
   ],
   "source": [
    "x=(1,3,5,2,3,5,11,3,7,9,45,34,9,456,45)\n",
    "y=[]\n",
    "for i in x:\n",
    "    if i not in y:\n",
    "        y.append(i)\n",
    "res=list(y)\n",
    "print(res)"
   ]
  },
  {
   "cell_type": "code",
   "execution_count": 3,
   "id": "650e654e",
   "metadata": {},
   "outputs": [
    {
     "data": {
      "text/plain": [
       "[1, 3, 5, 2, 11, 7, 9, 45, 34, 456]"
      ]
     },
     "execution_count": 3,
     "metadata": {},
     "output_type": "execute_result"
    }
   ],
   "source": [
    "res"
   ]
  },
  {
   "cell_type": "code",
   "execution_count": 4,
   "id": "a41b61b9",
   "metadata": {},
   "outputs": [],
   "source": [
    "res.sort()"
   ]
  },
  {
   "cell_type": "code",
   "execution_count": 5,
   "id": "20457e80",
   "metadata": {},
   "outputs": [
    {
     "data": {
      "text/plain": [
       "[1, 2, 3, 5, 7, 9, 11, 34, 45, 456]"
      ]
     },
     "execution_count": 5,
     "metadata": {},
     "output_type": "execute_result"
    }
   ],
   "source": [
    "res"
   ]
  },
  {
   "cell_type": "code",
   "execution_count": 7,
   "id": "c3ab1590",
   "metadata": {},
   "outputs": [
    {
     "name": "stdout",
     "output_type": "stream",
     "text": [
      "{'name': 'xyz', 'marks': 777, 'age': 25}\n"
     ]
    }
   ],
   "source": [
    "x={\n",
    "    'name':'xyz',\n",
    "    'marks':777,\n",
    "    'age':25\n",
    "}\n",
    "\n",
    "print(x)"
   ]
  },
  {
   "cell_type": "code",
   "execution_count": 8,
   "id": "52f39997",
   "metadata": {},
   "outputs": [
    {
     "name": "stdout",
     "output_type": "stream",
     "text": [
      "{'name': 'xyz', 'marks': 777, 'age': 25}\n"
     ]
    }
   ],
   "source": [
    "print(x)"
   ]
  },
  {
   "cell_type": "code",
   "execution_count": 9,
   "id": "04e9f263",
   "metadata": {},
   "outputs": [
    {
     "data": {
      "text/plain": [
       "'xyz'"
      ]
     },
     "execution_count": 9,
     "metadata": {},
     "output_type": "execute_result"
    }
   ],
   "source": [
    "x['name']"
   ]
  },
  {
   "cell_type": "code",
   "execution_count": 10,
   "id": "516e0bc1",
   "metadata": {},
   "outputs": [
    {
     "data": {
      "text/plain": [
       "25"
      ]
     },
     "execution_count": 10,
     "metadata": {},
     "output_type": "execute_result"
    }
   ],
   "source": [
    "x['age']"
   ]
  },
  {
   "cell_type": "code",
   "execution_count": 11,
   "id": "ee94721e",
   "metadata": {},
   "outputs": [
    {
     "data": {
      "text/plain": [
       "777"
      ]
     },
     "execution_count": 11,
     "metadata": {},
     "output_type": "execute_result"
    }
   ],
   "source": [
    "x['marks']"
   ]
  },
  {
   "cell_type": "code",
   "execution_count": 15,
   "id": "4d20ba3f",
   "metadata": {},
   "outputs": [
    {
     "name": "stdout",
     "output_type": "stream",
     "text": [
      "{'name': ['a', 'b', 'c'], 'marks': (22, 24, 26), 'age': (12, 14, 16)}\n"
     ]
    }
   ],
   "source": [
    "x={\n",
    "    'name' : ['a','b','c'],\n",
    "    'marks': (22,24,26),\n",
    "    'age'  : (12,14,16)\n",
    "}\n",
    "\n",
    "print(x)"
   ]
  },
  {
   "cell_type": "code",
   "execution_count": 16,
   "id": "e0c1db69",
   "metadata": {},
   "outputs": [
    {
     "data": {
      "text/plain": [
       "'c'"
      ]
     },
     "execution_count": 16,
     "metadata": {},
     "output_type": "execute_result"
    }
   ],
   "source": [
    "x['name'] [2]"
   ]
  },
  {
   "cell_type": "code",
   "execution_count": 17,
   "id": "267bad85",
   "metadata": {},
   "outputs": [],
   "source": [
    "x['name']='defi'"
   ]
  },
  {
   "cell_type": "code",
   "execution_count": 18,
   "id": "4c2aefff",
   "metadata": {},
   "outputs": [
    {
     "name": "stdout",
     "output_type": "stream",
     "text": [
      "{'name': 'defi', 'marks': (22, 24, 26), 'age': (12, 14, 16)}\n"
     ]
    }
   ],
   "source": [
    "print(x)"
   ]
  },
  {
   "cell_type": "code",
   "execution_count": 19,
   "id": "2a4f4185",
   "metadata": {},
   "outputs": [],
   "source": [
    "x.update({'name':['a','b','c']})"
   ]
  },
  {
   "cell_type": "code",
   "execution_count": 20,
   "id": "5e6ca046",
   "metadata": {},
   "outputs": [
    {
     "name": "stdout",
     "output_type": "stream",
     "text": [
      "{'name': ['a', 'b', 'c'], 'marks': (22, 24, 26), 'age': (12, 14, 16)}\n"
     ]
    }
   ],
   "source": [
    "print(x)"
   ]
  },
  {
   "cell_type": "code",
   "execution_count": 22,
   "id": "6031764c",
   "metadata": {},
   "outputs": [],
   "source": [
    "def greet():\n",
    "    print(\"gm\")"
   ]
  },
  {
   "cell_type": "code",
   "execution_count": 23,
   "id": "e841b64c",
   "metadata": {},
   "outputs": [
    {
     "name": "stdout",
     "output_type": "stream",
     "text": [
      "gm\n"
     ]
    }
   ],
   "source": [
    "greet()"
   ]
  },
  {
   "cell_type": "code",
   "execution_count": 24,
   "id": "8063c685",
   "metadata": {},
   "outputs": [
    {
     "name": "stdout",
     "output_type": "stream",
     "text": [
      "nohtyp\n"
     ]
    }
   ],
   "source": [
    "a='python'\n",
    "b=''\n",
    "for i in a:\n",
    "    b=i+b\n",
    "print(b)"
   ]
  },
  {
   "cell_type": "code",
   "execution_count": 26,
   "id": "a923ff9e",
   "metadata": {},
   "outputs": [
    {
     "name": "stdout",
     "output_type": "stream",
     "text": [
      "hello, world\n"
     ]
    }
   ],
   "source": [
    "class greet:\n",
    "    def fun(self):\n",
    "        print(\"hello, world\")\n",
    "g=greet()\n",
    "g.fun()"
   ]
  },
  {
   "cell_type": "code",
   "execution_count": 28,
   "id": "f9cdf759",
   "metadata": {},
   "outputs": [
    {
     "name": "stdout",
     "output_type": "stream",
     "text": [
      "enter your salary10000\n",
      "enter your leaves4\n",
      "11200.0\n"
     ]
    }
   ],
   "source": [
    "class employee_salary_details:\n",
    "    def salary(self):\n",
    "        salary=int(input(\"enter your salary\"))\n",
    "        leaves=int(input(\"enter your leaves\"))\n",
    "        if leaves>5:\n",
    "            ded=(salary*5)/100\n",
    "            act_sal_ded=salary-ded\n",
    "            print(act_sal_ded)\n",
    "        else:\n",
    "            bonus=(salary*12)/100\n",
    "            act_sal_bon=salary+bonus\n",
    "            print(act_sal_bon)\n",
    "s=employee_salary_details()\n",
    "s.salary()"
   ]
  },
  {
   "cell_type": "code",
   "execution_count": 29,
   "id": "3a74cb62",
   "metadata": {},
   "outputs": [],
   "source": [
    "class student:\n",
    "    def __init__(self,name,age):\n",
    "        self.name=name\n",
    "        self.age=age\n",
    "s=student('harshit',25)"
   ]
  },
  {
   "cell_type": "code",
   "execution_count": 30,
   "id": "fc1ef887",
   "metadata": {},
   "outputs": [
    {
     "data": {
      "text/plain": [
       "'harshit'"
      ]
     },
     "execution_count": 30,
     "metadata": {},
     "output_type": "execute_result"
    }
   ],
   "source": [
    "s.name\n"
   ]
  },
  {
   "cell_type": "code",
   "execution_count": 31,
   "id": "933f508d",
   "metadata": {},
   "outputs": [
    {
     "data": {
      "text/plain": [
       "25"
      ]
     },
     "execution_count": 31,
     "metadata": {},
     "output_type": "execute_result"
    }
   ],
   "source": [
    "s.age"
   ]
  },
  {
   "cell_type": "code",
   "execution_count": 33,
   "id": "7dacd4ac",
   "metadata": {},
   "outputs": [],
   "source": [
    "class emp_detail:\n",
    "    def __init__(self,name,emp_id,salary):\n",
    "        self.name=name\n",
    "        self.emp_id=emp_id\n",
    "        self.salary=salary\n",
    "e=emp_detail('harshit',777,70000)\n"
   ]
  },
  {
   "cell_type": "code",
   "execution_count": 34,
   "id": "d2135ab8",
   "metadata": {},
   "outputs": [
    {
     "data": {
      "text/plain": [
       "'harshit'"
      ]
     },
     "execution_count": 34,
     "metadata": {},
     "output_type": "execute_result"
    }
   ],
   "source": [
    "e.name"
   ]
  },
  {
   "cell_type": "code",
   "execution_count": 35,
   "id": "d02ce2e3",
   "metadata": {},
   "outputs": [
    {
     "data": {
      "text/plain": [
       "777"
      ]
     },
     "execution_count": 35,
     "metadata": {},
     "output_type": "execute_result"
    }
   ],
   "source": [
    "e.emp_id"
   ]
  },
  {
   "cell_type": "code",
   "execution_count": 36,
   "id": "15c1db0e",
   "metadata": {},
   "outputs": [
    {
     "data": {
      "text/plain": [
       "70000"
      ]
     },
     "execution_count": 36,
     "metadata": {},
     "output_type": "execute_result"
    }
   ],
   "source": [
    "e.salary"
   ]
  },
  {
   "cell_type": "code",
   "execution_count": 54,
   "id": "0099cdea",
   "metadata": {},
   "outputs": [],
   "source": [
    "class parent:\n",
    "    def __init__(self,name,addr):\n",
    "        self.name=name\n",
    "        self.addr=addr\n",
    "class child(parent):\n",
    "    def __init__(self,name,addr,marks):\n",
    "        parent.__init__(self,name,addr)\n",
    "        self.marks=marks\n",
    "c=child('harshit','UP',777)"
   ]
  },
  {
   "cell_type": "code",
   "execution_count": 55,
   "id": "f5574fc2",
   "metadata": {},
   "outputs": [
    {
     "data": {
      "text/plain": [
       "'harshit'"
      ]
     },
     "execution_count": 55,
     "metadata": {},
     "output_type": "execute_result"
    }
   ],
   "source": [
    "c.name"
   ]
  },
  {
   "cell_type": "code",
   "execution_count": 56,
   "id": "57f84eda",
   "metadata": {},
   "outputs": [
    {
     "data": {
      "text/plain": [
       "'UP'"
      ]
     },
     "execution_count": 56,
     "metadata": {},
     "output_type": "execute_result"
    }
   ],
   "source": [
    "c.addr"
   ]
  },
  {
   "cell_type": "code",
   "execution_count": 57,
   "id": "92dc6d90",
   "metadata": {},
   "outputs": [
    {
     "data": {
      "text/plain": [
       "777"
      ]
     },
     "execution_count": 57,
     "metadata": {},
     "output_type": "execute_result"
    }
   ],
   "source": [
    "c.marks"
   ]
  },
  {
   "cell_type": "code",
   "execution_count": 58,
   "id": "78aa2a59",
   "metadata": {},
   "outputs": [],
   "source": [
    "class gpc:\n",
    "    def __init__(self,name):\n",
    "        self.name=name\n",
    "class pc(gpc):\n",
    "    def __init__(self,name,age):\n",
    "        gpc.__init__(self,name)\n",
    "        self.age=age\n",
    "class cc(pc):\n",
    "    def __init__(self,name,age,marks):\n",
    "        pc.__init__(self,name,age)\n",
    "        self.marks=marks\n",
    "c=cc('harshit',24,999)"
   ]
  },
  {
   "cell_type": "code",
   "execution_count": 59,
   "id": "44a76c46",
   "metadata": {},
   "outputs": [
    {
     "data": {
      "text/plain": [
       "'harshit'"
      ]
     },
     "execution_count": 59,
     "metadata": {},
     "output_type": "execute_result"
    }
   ],
   "source": [
    "c.name"
   ]
  },
  {
   "cell_type": "code",
   "execution_count": 60,
   "id": "d02171de",
   "metadata": {},
   "outputs": [
    {
     "data": {
      "text/plain": [
       "24"
      ]
     },
     "execution_count": 60,
     "metadata": {},
     "output_type": "execute_result"
    }
   ],
   "source": [
    "c.age"
   ]
  },
  {
   "cell_type": "code",
   "execution_count": 61,
   "id": "4e15d67e",
   "metadata": {},
   "outputs": [
    {
     "data": {
      "text/plain": [
       "999"
      ]
     },
     "execution_count": 61,
     "metadata": {},
     "output_type": "execute_result"
    }
   ],
   "source": [
    "c.marks"
   ]
  },
  {
   "cell_type": "code",
   "execution_count": 63,
   "id": "913907c0",
   "metadata": {},
   "outputs": [
    {
     "name": "stdout",
     "output_type": "stream",
     "text": [
      "harshit\n",
      "70000\n"
     ]
    }
   ],
   "source": [
    "class emp:\n",
    "    def fun(self,name,sal):\n",
    "        print(name)\n",
    "        print(sal)\n",
    "e=emp()\n",
    "e.fun('harshit',70000)"
   ]
  },
  {
   "cell_type": "code",
   "execution_count": 14,
   "id": "6f3cb2be",
   "metadata": {},
   "outputs": [],
   "source": [
    "class emp:\n",
    "    def fun(self,name):\n",
    "        print(name)\n",
    "    def fun2(self,sal):\n",
    "        print(sal)\n",
    "e=emp()"
   ]
  },
  {
   "cell_type": "code",
   "execution_count": 15,
   "id": "0459f7f9",
   "metadata": {},
   "outputs": [
    {
     "name": "stdout",
     "output_type": "stream",
     "text": [
      "harshit\n"
     ]
    }
   ],
   "source": [
    "e.fun('harshit')"
   ]
  },
  {
   "cell_type": "code",
   "execution_count": 16,
   "id": "4c376faf",
   "metadata": {},
   "outputs": [
    {
     "name": "stdout",
     "output_type": "stream",
     "text": [
      "70000\n"
     ]
    }
   ],
   "source": [
    "e.fun2('70000')"
   ]
  },
  {
   "cell_type": "code",
   "execution_count": 18,
   "id": "67e554f0",
   "metadata": {},
   "outputs": [
    {
     "data": {
      "text/plain": [
       "6"
      ]
     },
     "execution_count": 18,
     "metadata": {},
     "output_type": "execute_result"
    }
   ],
   "source": [
    "class python:\n",
    "    def fun(self,x=2,y=8):\n",
    "        z=x+y\n",
    "        return z\n",
    "p=python()\n",
    "p.fun(2,4)"
   ]
  },
  {
   "cell_type": "code",
   "execution_count": null,
   "id": "a45bc205",
   "metadata": {},
   "outputs": [],
   "source": []
  }
 ],
 "metadata": {
  "kernelspec": {
   "display_name": "Python 3 (ipykernel)",
   "language": "python",
   "name": "python3"
  },
  "language_info": {
   "codemirror_mode": {
    "name": "ipython",
    "version": 3
   },
   "file_extension": ".py",
   "mimetype": "text/x-python",
   "name": "python",
   "nbconvert_exporter": "python",
   "pygments_lexer": "ipython3",
   "version": "3.9.12"
  }
 },
 "nbformat": 4,
 "nbformat_minor": 5
}
