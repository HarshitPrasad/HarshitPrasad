{
 "cells": [
  {
   "cell_type": "markdown",
   "id": "5e55606c",
   "metadata": {},
   "source": [
    "# Map\n",
    "# map(function,data)"
   ]
  },
  {
   "cell_type": "code",
   "execution_count": 1,
   "id": "2a835f88",
   "metadata": {},
   "outputs": [
    {
     "data": {
      "text/plain": [
       "(1156, 49, 4, 81, 144)"
      ]
     },
     "execution_count": 1,
     "metadata": {},
     "output_type": "execute_result"
    }
   ],
   "source": [
    "x=[34,7,2,9,12]\n",
    "tuple(map(lambda a:a**2,x))"
   ]
  },
  {
   "cell_type": "code",
   "execution_count": 2,
   "id": "9568f46a",
   "metadata": {},
   "outputs": [
    {
     "data": {
      "text/plain": [
       "(27, 343, 729, 8, 64)"
      ]
     },
     "execution_count": 2,
     "metadata": {},
     "output_type": "execute_result"
    }
   ],
   "source": [
    "a=(3,7,9,2,4)\n",
    "tuple(map(lambda x:x**3,a))"
   ]
  },
  {
   "cell_type": "markdown",
   "id": "a0e286bd",
   "metadata": {},
   "source": [
    "# Reduce function"
   ]
  },
  {
   "cell_type": "code",
   "execution_count": 3,
   "id": "9aa00385",
   "metadata": {},
   "outputs": [],
   "source": [
    "from functools import reduce"
   ]
  },
  {
   "cell_type": "code",
   "execution_count": 4,
   "id": "42ec15fd",
   "metadata": {},
   "outputs": [
    {
     "data": {
      "text/plain": [
       "10"
      ]
     },
     "execution_count": 4,
     "metadata": {},
     "output_type": "execute_result"
    }
   ],
   "source": [
    "x = [1,2,3,4]\n",
    "reduce(lambda x,y:x+y,x)"
   ]
  },
  {
   "cell_type": "code",
   "execution_count": 5,
   "id": "8f88bd25",
   "metadata": {},
   "outputs": [],
   "source": [
    "x=lambda a,b,c,d,e:(a+b+c+d+e)/5"
   ]
  },
  {
   "cell_type": "code",
   "execution_count": 6,
   "id": "2e8192b6",
   "metadata": {},
   "outputs": [
    {
     "data": {
      "text/plain": [
       "3.0"
      ]
     },
     "execution_count": 6,
     "metadata": {},
     "output_type": "execute_result"
    }
   ],
   "source": [
    "x(1,2,3,4,5)"
   ]
  },
  {
   "cell_type": "markdown",
   "id": "4877286d",
   "metadata": {},
   "source": [
    "# REGEX"
   ]
  },
  {
   "cell_type": "code",
   "execution_count": 7,
   "id": "1779e519",
   "metadata": {},
   "outputs": [],
   "source": [
    "import re"
   ]
  },
  {
   "cell_type": "code",
   "execution_count": 17,
   "id": "1ffb8aee",
   "metadata": {},
   "outputs": [
    {
     "data": {
      "text/plain": [
       "<re.Match object; span=(7, 14), match='student'>"
      ]
     },
     "execution_count": 17,
     "metadata": {},
     "output_type": "execute_result"
    }
   ],
   "source": [
    "#search \n",
    "#spilt\n",
    "#sub\n",
    "#findall\n",
    "\n",
    "\n",
    "a='I am a student who fail the fail the exam'\n",
    "re.search('student',a)"
   ]
  },
  {
   "cell_type": "code",
   "execution_count": 18,
   "id": "78e00159",
   "metadata": {},
   "outputs": [
    {
     "data": {
      "text/plain": [
       "['I am a s', 'uden', ' who fail ', 'he fail ', 'he exam']"
      ]
     },
     "execution_count": 18,
     "metadata": {},
     "output_type": "execute_result"
    }
   ],
   "source": [
    "re.split('t',a)"
   ]
  },
  {
   "cell_type": "code",
   "execution_count": 19,
   "id": "66ce258a",
   "metadata": {},
   "outputs": [
    {
     "data": {
      "text/plain": [
       "'I am a student who pass the pass the exam'"
      ]
     },
     "execution_count": 19,
     "metadata": {},
     "output_type": "execute_result"
    }
   ],
   "source": [
    "#sub\n",
    "\n",
    "re.sub('fail','pass',a)"
   ]
  },
  {
   "cell_type": "code",
   "execution_count": 20,
   "id": "cfb07576",
   "metadata": {},
   "outputs": [
    {
     "data": {
      "text/plain": [
       "['t', 't', 't', 't']"
      ]
     },
     "execution_count": 20,
     "metadata": {},
     "output_type": "execute_result"
    }
   ],
   "source": [
    "re.findall('t',a)"
   ]
  },
  {
   "cell_type": "code",
   "execution_count": null,
   "id": "39eea0f5",
   "metadata": {},
   "outputs": [],
   "source": [
    " "
   ]
  }
 ],
 "metadata": {
  "kernelspec": {
   "display_name": "Python 3 (ipykernel)",
   "language": "python",
   "name": "python3"
  },
  "language_info": {
   "codemirror_mode": {
    "name": "ipython",
    "version": 3
   },
   "file_extension": ".py",
   "mimetype": "text/x-python",
   "name": "python",
   "nbconvert_exporter": "python",
   "pygments_lexer": "ipython3",
   "version": "3.9.12"
  }
 },
 "nbformat": 4,
 "nbformat_minor": 5
}
